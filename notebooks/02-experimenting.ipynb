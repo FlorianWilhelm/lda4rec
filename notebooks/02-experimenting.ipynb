{
 "cells": [
  {
   "cell_type": "code",
   "execution_count": 1,
   "metadata": {},
   "outputs": [],
   "source": [
    "import functools\n",
    "import itertools\n",
    "import logging\n",
    "import math\n",
    "import os\n",
    "import pickle\n",
    "import sys\n",
    "from pathlib import Path\n",
    "\n",
    "import matplotlib as mpl\n",
    "import matplotlib.pyplot as plt\n",
    "import numpy as np\n",
    "import scipy as sp\n",
    "import seaborn as sns\n",
    "import yaml\n",
    "\n",
    "%load_ext autoreload\n",
    "%autoreload 2\n",
    "\n",
    "%matplotlib inline\n",
    "%config InlineBackend.figure_format = 'retina'\n",
    "\n",
    "sns.set_context(\"poster\")\n",
    "sns.set(rc={\"figure.figsize\": (16, 12.0)})\n",
    "sns.set_style(\"whitegrid\")\n",
    "\n",
    "import numpy as np\n",
    "import pandas as pd\n",
    "import torch.nn.functional as F\n",
    "\n",
    "pd.set_option(\"display.max_rows\", 120)\n",
    "pd.set_option(\"display.max_columns\", 120)\n",
    "\n",
    "logging.basicConfig(level=logging.INFO, stream=sys.stdout)"
   ]
  },
  {
   "cell_type": "code",
   "execution_count": 2,
   "metadata": {},
   "outputs": [],
   "source": [
    "from lda4rec.datasets import Interactions, DataLoader, random_train_test_split, items_per_user_train_test_split\n",
    "from lda4rec.evaluations import summary\n",
    "from lda4rec.estimators import MFEst, PopEst, LDA4RecEst, SNMFEst\n",
    "from lda4rec.utils import process_ids, cmp_ranks, reparam_beta\n",
    "from lda4rec import lda"
   ]
  },
  {
   "cell_type": "code",
   "execution_count": 3,
   "metadata": {},
   "outputs": [],
   "source": [
    "import pyro\n",
    "import pyro.distributions as dist\n",
    "import pyro.optim as optim\n",
    "import torch\n",
    "from pyro.distributions import constraints\n",
    "from pyro.infer import SVI, Predictive, Trace_ELBO, TraceEnum_ELBO, config_enumerate"
   ]
  },
  {
   "cell_type": "code",
   "execution_count": 4,
   "metadata": {},
   "outputs": [
    {
     "name": "stdout",
     "output_type": "stream",
     "text": [
      "WARNING:neptune.internal.hardware.gpu.gpu_monitor:Info (NVML): NVML Shared Library Not Found. GPU usage metrics may not be reported. For more information, see https://docs-legacy.neptune.ai/logging-and-managing-experiment-results/logging-experiment-data.html#hardware-consumption \n",
      "offline/02550c0e-553a-46cb-8acc-fe1082c908fe\n",
      "Remember to stop your run once you’ve finished logging your metadata (https://docs.neptune.ai/api-reference/run#stop). It will be stopped automatically only when the notebook kernel/interactive console is terminated.\n"
     ]
    },
    {
     "data": {
      "text/plain": [
       "<neptune.new.run.Run at 0x7f77ec765f10>"
      ]
     },
     "execution_count": 4,
     "metadata": {},
     "output_type": "execute_result"
    }
   ],
   "source": [
    "import neptune.new as neptune\n",
    "# init dummy neptune to avoid problems with logging\n",
    "neptune.init(mode='offline') "
   ]
  },
  {
   "cell_type": "code",
   "execution_count": 5,
   "metadata": {},
   "outputs": [],
   "source": [
    "from icecream import ic, install\n",
    "\n",
    "install()\n",
    "# configure icecream\n",
    "def ic_str(obj):\n",
    "    if hasattr(obj, \"shape\"):\n",
    "        return f\"{obj} \"  #\n",
    "    else:\n",
    "        return str(obj)"
   ]
  },
  {
   "cell_type": "code",
   "execution_count": 6,
   "metadata": {
    "tags": []
   },
   "outputs": [],
   "source": [
    "ic.configureOutput(argToStringFunction=ic_str)"
   ]
  },
  {
   "cell_type": "markdown",
   "metadata": {},
   "source": [
    "## Experimenting with different estimators"
   ]
  },
  {
   "cell_type": "code",
   "execution_count": 34,
   "metadata": {},
   "outputs": [],
   "source": [
    "loader = DataLoader()\n",
    "data = loader.load_movielens(\"100k\")"
   ]
  },
  {
   "cell_type": "code",
   "execution_count": 35,
   "metadata": {},
   "outputs": [],
   "source": [
    "max_interactions = 200\n",
    "data.max_user_interactions_(max_interactions, rng=42)"
   ]
  },
  {
   "cell_type": "code",
   "execution_count": 36,
   "metadata": {},
   "outputs": [],
   "source": [
    "data.implicit_(0.)\n",
    "train, test = items_per_user_train_test_split(data, n_items_per_user=10, rng=42)"
   ]
  },
  {
   "cell_type": "code",
   "execution_count": 37,
   "metadata": {},
   "outputs": [
    {
     "data": {
      "text/plain": [
       "9724"
      ]
     },
     "execution_count": 37,
     "metadata": {},
     "output_type": "execute_result"
    }
   ],
   "source": [
    "data.n_items"
   ]
  },
  {
   "cell_type": "code",
   "execution_count": 10,
   "metadata": {},
   "outputs": [],
   "source": [
    "pop_est = PopEst()\n",
    "pop_est.fit(train)"
   ]
  },
  {
   "cell_type": "code",
   "execution_count": 11,
   "metadata": {},
   "outputs": [
    {
     "data": {
      "text/html": [
       "<div>\n",
       "<style scoped>\n",
       "    .dataframe tbody tr th:only-of-type {\n",
       "        vertical-align: middle;\n",
       "    }\n",
       "\n",
       "    .dataframe tbody tr th {\n",
       "        vertical-align: top;\n",
       "    }\n",
       "\n",
       "    .dataframe thead th {\n",
       "        text-align: right;\n",
       "    }\n",
       "</style>\n",
       "<table border=\"1\" class=\"dataframe\">\n",
       "  <thead>\n",
       "    <tr style=\"text-align: right;\">\n",
       "      <th></th>\n",
       "      <th>train</th>\n",
       "      <th>test</th>\n",
       "    </tr>\n",
       "    <tr>\n",
       "      <th>metric</th>\n",
       "      <th></th>\n",
       "      <th></th>\n",
       "    </tr>\n",
       "  </thead>\n",
       "  <tbody>\n",
       "    <tr>\n",
       "      <th>prec</th>\n",
       "      <td>0.289836</td>\n",
       "      <td>0.101149</td>\n",
       "    </tr>\n",
       "    <tr>\n",
       "      <th>recall</th>\n",
       "      <td>0.054435</td>\n",
       "      <td>0.069478</td>\n",
       "    </tr>\n",
       "    <tr>\n",
       "      <th>mrr</th>\n",
       "      <td>0.515369</td>\n",
       "      <td>0.291043</td>\n",
       "    </tr>\n",
       "  </tbody>\n",
       "</table>\n",
       "</div>"
      ],
      "text/plain": [
       "           train      test\n",
       "metric                    \n",
       "prec    0.289836  0.101149\n",
       "recall  0.054435  0.069478\n",
       "mrr     0.515369  0.291043"
      ]
     },
     "execution_count": 11,
     "metadata": {},
     "output_type": "execute_result"
    }
   ],
   "source": [
    "summary(pop_est, train=train, test=test)"
   ]
  },
  {
   "cell_type": "code",
   "execution_count": 12,
   "metadata": {},
   "outputs": [
    {
     "name": "stdout",
     "output_type": "stream",
     "text": [
      "INFO:lda4rec.estimators:Epoch     0: loss 0.4121378366206143\n",
      "INFO:lda4rec.estimators:Epoch     1: loss 0.23928146152882962\n",
      "INFO:lda4rec.estimators:Epoch     2: loss 0.14850975724088178\n",
      "INFO:lda4rec.estimators:Epoch     3: loss 0.11803034928602141\n",
      "INFO:lda4rec.estimators:Epoch     4: loss 0.10118764651989615\n",
      "INFO:lda4rec.estimators:Epoch     5: loss 0.09070666121268595\n",
      "INFO:lda4rec.estimators:Epoch     6: loss 0.0858604818985269\n",
      "INFO:lda4rec.estimators:Epoch     7: loss 0.08038948287029524\n",
      "INFO:lda4rec.estimators:Epoch     8: loss 0.07831938971538802\n",
      "INFO:lda4rec.estimators:Epoch     9: loss 0.07759747872682841\n",
      "INFO:lda4rec.estimators:Epoch    10: loss 0.0727975038912248\n",
      "INFO:lda4rec.estimators:Epoch    11: loss 0.07130392333744345\n",
      "INFO:lda4rec.estimators:Epoch    12: loss 0.07082058573896821\n",
      "INFO:lda4rec.estimators:Epoch    13: loss 0.06708324882327704\n",
      "INFO:lda4rec.estimators:Epoch    14: loss 0.068823801816718\n",
      "INFO:lda4rec.estimators:Epoch    15: loss 0.06796434802078717\n",
      "INFO:lda4rec.estimators:Epoch    16: loss 0.06829597526607481\n",
      "INFO:lda4rec.estimators:Epoch    17: loss 0.06851832793673147\n",
      "INFO:lda4rec.estimators:Epoch    18: loss 0.06468375977632161\n",
      "INFO:lda4rec.estimators:Epoch    19: loss 0.06365962616998602\n",
      "INFO:lda4rec.estimators:Epoch    20: loss 0.06520558734600608\n",
      "INFO:lda4rec.estimators:Epoch    21: loss 0.06520492327777115\n",
      "INFO:lda4rec.estimators:Epoch    22: loss 0.06444198272719577\n",
      "INFO:lda4rec.estimators:Epoch    23: loss 0.06387653316094263\n",
      "INFO:lda4rec.estimators:Epoch    24: loss 0.06359198339082099\n",
      "INFO:lda4rec.estimators:Epoch    25: loss 0.06259614752253165\n",
      "INFO:lda4rec.estimators:Epoch    26: loss 0.062217145755484295\n",
      "INFO:lda4rec.estimators:Epoch    27: loss 0.06096773949527257\n",
      "INFO:lda4rec.estimators:Epoch    28: loss 0.06439019383963299\n",
      "INFO:lda4rec.estimators:Converged after 28 epochs.\n"
     ]
    },
    {
     "data": {
      "text/plain": [
       "0.06439019383963299"
      ]
     },
     "execution_count": 12,
     "metadata": {},
     "output_type": "execute_result"
    }
   ],
   "source": [
    "mf_est = MFEst(embedding_dim=4, n_iter=30)\n",
    "mf_est.fit(train)"
   ]
  },
  {
   "cell_type": "code",
   "execution_count": 23,
   "metadata": {},
   "outputs": [
    {
     "data": {
      "text/html": [
       "<div>\n",
       "<style scoped>\n",
       "    .dataframe tbody tr th:only-of-type {\n",
       "        vertical-align: middle;\n",
       "    }\n",
       "\n",
       "    .dataframe tbody tr th {\n",
       "        vertical-align: top;\n",
       "    }\n",
       "\n",
       "    .dataframe thead th {\n",
       "        text-align: right;\n",
       "    }\n",
       "</style>\n",
       "<table border=\"1\" class=\"dataframe\">\n",
       "  <thead>\n",
       "    <tr style=\"text-align: right;\">\n",
       "      <th></th>\n",
       "      <th>train</th>\n",
       "      <th>test</th>\n",
       "    </tr>\n",
       "    <tr>\n",
       "      <th>metric</th>\n",
       "      <th></th>\n",
       "      <th></th>\n",
       "    </tr>\n",
       "  </thead>\n",
       "  <tbody>\n",
       "    <tr>\n",
       "      <th>prec</th>\n",
       "      <td>0.299180</td>\n",
       "      <td>0.118062</td>\n",
       "    </tr>\n",
       "    <tr>\n",
       "      <th>recall</th>\n",
       "      <td>0.054888</td>\n",
       "      <td>0.084041</td>\n",
       "    </tr>\n",
       "    <tr>\n",
       "      <th>mrr</th>\n",
       "      <td>0.477103</td>\n",
       "      <td>0.263162</td>\n",
       "    </tr>\n",
       "  </tbody>\n",
       "</table>\n",
       "</div>"
      ],
      "text/plain": [
       "           train      test\n",
       "metric                    \n",
       "prec    0.299180  0.118062\n",
       "recall  0.054888  0.084041\n",
       "mrr     0.477103  0.263162"
      ]
     },
     "execution_count": 23,
     "metadata": {},
     "output_type": "execute_result"
    }
   ],
   "source": [
    "summary(mf_est, train=train, test=test)"
   ]
  },
  {
   "cell_type": "code",
   "execution_count": 13,
   "metadata": {},
   "outputs": [
    {
     "data": {
      "text/html": [
       "<div>\n",
       "<style scoped>\n",
       "    .dataframe tbody tr th:only-of-type {\n",
       "        vertical-align: middle;\n",
       "    }\n",
       "\n",
       "    .dataframe tbody tr th {\n",
       "        vertical-align: top;\n",
       "    }\n",
       "\n",
       "    .dataframe thead th {\n",
       "        text-align: right;\n",
       "    }\n",
       "</style>\n",
       "<table border=\"1\" class=\"dataframe\">\n",
       "  <thead>\n",
       "    <tr style=\"text-align: right;\">\n",
       "      <th></th>\n",
       "      <th>train</th>\n",
       "      <th>test</th>\n",
       "    </tr>\n",
       "    <tr>\n",
       "      <th>metric</th>\n",
       "      <th></th>\n",
       "      <th></th>\n",
       "    </tr>\n",
       "  </thead>\n",
       "  <tbody>\n",
       "    <tr>\n",
       "      <th>prec</th>\n",
       "      <td>0.312623</td>\n",
       "      <td>0.114943</td>\n",
       "    </tr>\n",
       "    <tr>\n",
       "      <th>recall</th>\n",
       "      <td>0.059122</td>\n",
       "      <td>0.084712</td>\n",
       "    </tr>\n",
       "    <tr>\n",
       "      <th>mrr</th>\n",
       "      <td>0.547390</td>\n",
       "      <td>0.309246</td>\n",
       "    </tr>\n",
       "    <tr>\n",
       "      <th>map</th>\n",
       "      <td>0.197429</td>\n",
       "      <td>0.065587</td>\n",
       "    </tr>\n",
       "  </tbody>\n",
       "</table>\n",
       "</div>"
      ],
      "text/plain": [
       "           train      test\n",
       "metric                    \n",
       "prec    0.312623  0.114943\n",
       "recall  0.059122  0.084712\n",
       "mrr     0.547390  0.309246\n",
       "map     0.197429  0.065587"
      ]
     },
     "execution_count": 13,
     "metadata": {},
     "output_type": "execute_result"
    }
   ],
   "source": [
    "summary(mf_est, train=train, test=test)"
   ]
  },
  {
   "cell_type": "code",
   "execution_count": 14,
   "metadata": {},
   "outputs": [],
   "source": [
    "lda_est = LDA4RecEst(embedding_dim=2, n_iter=10_000, batch_size=128, learning_rate=0.001, use_jit=True)"
   ]
  },
  {
   "cell_type": "code",
   "execution_count": 15,
   "metadata": {},
   "outputs": [
    {
     "name": "stdout",
     "output_type": "stream",
     "text": [
      "INFO:lda4rec.estimators:Epoch     0: loss 478405.40625\n",
      "INFO:lda4rec.estimators:Epoch   100: loss 426789.15625\n",
      "INFO:lda4rec.estimators:Epoch   200: loss 467023.96875\n",
      "INFO:lda4rec.estimators:Epoch   300: loss 514568.46875\n",
      "INFO:lda4rec.estimators:Epoch   400: loss 463364.4375\n",
      "INFO:lda4rec.estimators:Epoch   500: loss 464609.4375\n",
      "INFO:lda4rec.estimators:Epoch   600: loss 442458.375\n",
      "INFO:lda4rec.estimators:Epoch   700: loss 466683.625\n",
      "INFO:lda4rec.estimators:Epoch   800: loss 397117.03125\n",
      "INFO:lda4rec.estimators:Epoch   900: loss 435381.0625\n",
      "INFO:lda4rec.estimators:Epoch  1000: loss 386975.9375\n",
      "INFO:lda4rec.estimators:Epoch  1100: loss 401105.84375\n",
      "INFO:lda4rec.estimators:Epoch  1200: loss 467221.4375\n",
      "INFO:lda4rec.estimators:Epoch  1300: loss 386870.625\n",
      "INFO:lda4rec.estimators:Epoch  1400: loss 384876.6875\n",
      "INFO:lda4rec.estimators:Epoch  1500: loss 378500.6875\n",
      "INFO:lda4rec.estimators:Epoch  1600: loss 400084.40625\n",
      "INFO:lda4rec.estimators:Epoch  1700: loss 410764.65625\n",
      "INFO:lda4rec.estimators:Epoch  1800: loss 416475.75\n",
      "INFO:lda4rec.estimators:Epoch  1900: loss 424925.125\n",
      "INFO:lda4rec.estimators:Epoch  2000: loss 412272.40625\n",
      "INFO:lda4rec.estimators:Epoch  2100: loss 445483.875\n",
      "INFO:lda4rec.estimators:Epoch  2200: loss 367771.40625\n",
      "INFO:lda4rec.estimators:Epoch  2300: loss 416986.6875\n",
      "INFO:lda4rec.estimators:Epoch  2400: loss 333590.46875\n",
      "INFO:lda4rec.estimators:Epoch  2500: loss 366376.34375\n",
      "INFO:lda4rec.estimators:Epoch  2600: loss 381843.3125\n",
      "INFO:lda4rec.estimators:Epoch  2700: loss 411911.0625\n",
      "INFO:lda4rec.estimators:Epoch  2800: loss 355222.375\n",
      "INFO:lda4rec.estimators:Epoch  2900: loss 367502.21875\n",
      "INFO:lda4rec.estimators:Epoch  3000: loss 408714.96875\n",
      "INFO:lda4rec.estimators:Epoch  3100: loss 404411.15625\n",
      "INFO:lda4rec.estimators:Epoch  3200: loss 367751.65625\n",
      "INFO:lda4rec.estimators:Epoch  3300: loss 391139.59375\n",
      "INFO:lda4rec.estimators:Epoch  3400: loss 394376.4375\n",
      "INFO:lda4rec.estimators:Epoch  3500: loss 399382.3125\n",
      "INFO:lda4rec.estimators:Epoch  3600: loss 382233.71875\n",
      "INFO:lda4rec.estimators:Epoch  3700: loss 416806.5625\n",
      "INFO:lda4rec.estimators:Epoch  3800: loss 392442.96875\n",
      "INFO:lda4rec.estimators:Epoch  3900: loss 384805.8125\n",
      "INFO:lda4rec.estimators:Epoch  4000: loss 356415.375\n",
      "INFO:lda4rec.estimators:Epoch  4100: loss 368885.09375\n",
      "INFO:lda4rec.estimators:Epoch  4200: loss 378754.90625\n",
      "INFO:lda4rec.estimators:Epoch  4300: loss 382790.5\n",
      "INFO:lda4rec.estimators:Epoch  4400: loss 394970.21875\n",
      "INFO:lda4rec.estimators:Epoch  4500: loss 408280.21875\n",
      "INFO:lda4rec.estimators:Epoch  4600: loss 370085.5\n",
      "INFO:lda4rec.estimators:Epoch  4700: loss 375553.5\n",
      "INFO:lda4rec.estimators:Epoch  4800: loss 414226.28125\n",
      "INFO:lda4rec.estimators:Epoch  4900: loss 372504.34375\n",
      "INFO:lda4rec.estimators:Epoch  5000: loss 391139.78125\n",
      "INFO:lda4rec.estimators:Epoch  5100: loss 364274.75\n",
      "INFO:lda4rec.estimators:Epoch  5200: loss 368321.40625\n",
      "INFO:lda4rec.estimators:Epoch  5300: loss 345721.9375\n",
      "INFO:lda4rec.estimators:Epoch  5400: loss 362405.1875\n",
      "INFO:lda4rec.estimators:Epoch  5500: loss 376553.59375\n",
      "INFO:lda4rec.estimators:Epoch  5600: loss 417753.0\n",
      "INFO:lda4rec.estimators:Epoch  5700: loss 389553.875\n",
      "INFO:lda4rec.estimators:Epoch  5800: loss 360193.53125\n",
      "INFO:lda4rec.estimators:Epoch  5900: loss 410933.03125\n",
      "INFO:lda4rec.estimators:Epoch  6000: loss 426308.84375\n",
      "INFO:lda4rec.estimators:Epoch  6100: loss 386878.75\n",
      "INFO:lda4rec.estimators:Epoch  6200: loss 351554.15625\n",
      "INFO:lda4rec.estimators:Epoch  6300: loss 376807.0625\n",
      "INFO:lda4rec.estimators:Epoch  6400: loss 382498.53125\n",
      "INFO:lda4rec.estimators:Epoch  6500: loss 371453.3125\n",
      "INFO:lda4rec.estimators:Epoch  6600: loss 399227.34375\n",
      "INFO:lda4rec.estimators:Epoch  6700: loss 365359.25\n",
      "INFO:lda4rec.estimators:Epoch  6800: loss 371429.6875\n",
      "INFO:lda4rec.estimators:Epoch  6900: loss 391264.8125\n",
      "INFO:lda4rec.estimators:Epoch  7000: loss 420809.40625\n",
      "INFO:lda4rec.estimators:Epoch  7100: loss 427541.0625\n",
      "INFO:lda4rec.estimators:Epoch  7200: loss 374448.8125\n",
      "INFO:lda4rec.estimators:Epoch  7300: loss 331207.25\n",
      "INFO:lda4rec.estimators:Epoch  7400: loss 374440.4375\n",
      "INFO:lda4rec.estimators:Epoch  7500: loss 402001.125\n",
      "INFO:lda4rec.estimators:Epoch  7600: loss 394887.03125\n",
      "INFO:lda4rec.estimators:Epoch  7700: loss 333286.78125\n",
      "INFO:lda4rec.estimators:Epoch  7800: loss 367975.09375\n",
      "INFO:lda4rec.estimators:Epoch  7900: loss 363651.46875\n",
      "INFO:lda4rec.estimators:Epoch  8000: loss 409410.875\n",
      "INFO:lda4rec.estimators:Epoch  8100: loss 412824.15625\n",
      "INFO:lda4rec.estimators:Epoch  8200: loss 393600.96875\n",
      "INFO:lda4rec.estimators:Epoch  8300: loss 390170.0\n",
      "INFO:lda4rec.estimators:Epoch  8400: loss 373844.6875\n",
      "INFO:lda4rec.estimators:Epoch  8500: loss 362474.6875\n",
      "INFO:lda4rec.estimators:Epoch  8600: loss 344127.1875\n",
      "INFO:lda4rec.estimators:Epoch  8700: loss 365156.875\n",
      "INFO:lda4rec.estimators:Epoch  8800: loss 383968.65625\n",
      "INFO:lda4rec.estimators:Epoch  8900: loss 401624.90625\n",
      "INFO:lda4rec.estimators:Epoch  9000: loss 395002.65625\n",
      "INFO:lda4rec.estimators:Epoch  9100: loss 352400.15625\n",
      "INFO:lda4rec.estimators:Epoch  9200: loss 337189.0\n",
      "INFO:lda4rec.estimators:Epoch  9300: loss 374338.9375\n",
      "INFO:lda4rec.estimators:Epoch  9400: loss 376335.75\n",
      "INFO:lda4rec.estimators:Epoch  9500: loss 395653.875\n",
      "INFO:lda4rec.estimators:Epoch  9600: loss 353512.625\n",
      "INFO:lda4rec.estimators:Epoch  9700: loss 355969.875\n",
      "INFO:lda4rec.estimators:Epoch  9800: loss 393452.34375\n",
      "INFO:lda4rec.estimators:Epoch  9900: loss 366884.125\n"
     ]
    }
   ],
   "source": [
    "model_state = \"../models/lda_est3.state\"\n",
    "if Path(model_state).is_file():\n",
    "    lda_est.load(model_state, train)\n",
    "else:\n",
    "    lda_est.fit(train)\n",
    "    lda_est.save(model_state)"
   ]
  },
  {
   "cell_type": "code",
   "execution_count": 16,
   "metadata": {},
   "outputs": [
    {
     "data": {
      "text/html": [
       "<div>\n",
       "<style scoped>\n",
       "    .dataframe tbody tr th:only-of-type {\n",
       "        vertical-align: middle;\n",
       "    }\n",
       "\n",
       "    .dataframe tbody tr th {\n",
       "        vertical-align: top;\n",
       "    }\n",
       "\n",
       "    .dataframe thead th {\n",
       "        text-align: right;\n",
       "    }\n",
       "</style>\n",
       "<table border=\"1\" class=\"dataframe\">\n",
       "  <thead>\n",
       "    <tr style=\"text-align: right;\">\n",
       "      <th></th>\n",
       "      <th>train</th>\n",
       "      <th>test</th>\n",
       "    </tr>\n",
       "    <tr>\n",
       "      <th>metric</th>\n",
       "      <th></th>\n",
       "      <th></th>\n",
       "    </tr>\n",
       "  </thead>\n",
       "  <tbody>\n",
       "    <tr>\n",
       "      <th>prec</th>\n",
       "      <td>0.347869</td>\n",
       "      <td>0.141872</td>\n",
       "    </tr>\n",
       "    <tr>\n",
       "      <th>recall</th>\n",
       "      <td>0.069647</td>\n",
       "      <td>0.110018</td>\n",
       "    </tr>\n",
       "    <tr>\n",
       "      <th>mrr</th>\n",
       "      <td>0.571911</td>\n",
       "      <td>0.322986</td>\n",
       "    </tr>\n",
       "    <tr>\n",
       "      <th>map</th>\n",
       "      <td>0.228337</td>\n",
       "      <td>0.088762</td>\n",
       "    </tr>\n",
       "  </tbody>\n",
       "</table>\n",
       "</div>"
      ],
      "text/plain": [
       "           train      test\n",
       "metric                    \n",
       "prec    0.347869  0.141872\n",
       "recall  0.069647  0.110018\n",
       "mrr     0.571911  0.322986\n",
       "map     0.228337  0.088762"
      ]
     },
     "execution_count": 16,
     "metadata": {},
     "output_type": "execute_result"
    }
   ],
   "source": [
    "summary(lda_est, train=train, test=test)"
   ]
  },
  {
   "cell_type": "code",
   "execution_count": 17,
   "metadata": {},
   "outputs": [
    {
     "data": {
      "text/html": [
       "<div>\n",
       "<style scoped>\n",
       "    .dataframe tbody tr th:only-of-type {\n",
       "        vertical-align: middle;\n",
       "    }\n",
       "\n",
       "    .dataframe tbody tr th {\n",
       "        vertical-align: top;\n",
       "    }\n",
       "\n",
       "    .dataframe thead th {\n",
       "        text-align: right;\n",
       "    }\n",
       "</style>\n",
       "<table border=\"1\" class=\"dataframe\">\n",
       "  <thead>\n",
       "    <tr style=\"text-align: right;\">\n",
       "      <th></th>\n",
       "      <th>train</th>\n",
       "      <th>test</th>\n",
       "    </tr>\n",
       "    <tr>\n",
       "      <th>metric</th>\n",
       "      <th></th>\n",
       "      <th></th>\n",
       "    </tr>\n",
       "  </thead>\n",
       "  <tbody>\n",
       "    <tr>\n",
       "      <th>prec</th>\n",
       "      <td>0.335082</td>\n",
       "      <td>0.140394</td>\n",
       "    </tr>\n",
       "    <tr>\n",
       "      <th>recall</th>\n",
       "      <td>0.064961</td>\n",
       "      <td>0.108763</td>\n",
       "    </tr>\n",
       "    <tr>\n",
       "      <th>mrr</th>\n",
       "      <td>0.030984</td>\n",
       "      <td>0.049385</td>\n",
       "    </tr>\n",
       "  </tbody>\n",
       "</table>\n",
       "</div>"
      ],
      "text/plain": [
       "           train      test\n",
       "metric                    \n",
       "prec    0.335082  0.140394\n",
       "recall  0.064961  0.108763\n",
       "mrr     0.030984  0.049385"
      ]
     },
     "execution_count": 17,
     "metadata": {},
     "output_type": "execute_result"
    }
   ],
   "source": [
    "summary(lda_est, train=train, test=test)"
   ]
  },
  {
   "cell_type": "code",
   "execution_count": 207,
   "metadata": {},
   "outputs": [],
   "source": [
    "hlda_est = LDA4RecEst(embedding_dim=8, n_iter=10_000, batch_size=128, learning_rate=0.001, use_jit=True, model=lda.hier_model, guide=lda.hier_var_guide)"
   ]
  },
  {
   "cell_type": "code",
   "execution_count": 208,
   "metadata": {},
   "outputs": [
    {
     "name": "stdout",
     "output_type": "stream",
     "text": [
      "INFO:lda4rec.estimators:Epoch     0: loss 549873.875\n",
      "INFO:lda4rec.estimators:Epoch   100: loss 495584.5625\n"
     ]
    },
    {
     "ename": "KeyboardInterrupt",
     "evalue": "",
     "output_type": "error",
     "traceback": [
      "\u001b[0;31m---------------------------------------------------------------------------\u001b[0m",
      "\u001b[0;31mKeyboardInterrupt\u001b[0m                         Traceback (most recent call last)",
      "\u001b[0;32m/var/folders/79/04017qsd7vs6pmdn2drbx1qh0000gn/T/ipykernel_34791/3488438389.py\u001b[0m in \u001b[0;36m<module>\u001b[0;34m\u001b[0m\n\u001b[1;32m      3\u001b[0m     \u001b[0mhlda_est\u001b[0m\u001b[0;34m.\u001b[0m\u001b[0mload\u001b[0m\u001b[0;34m(\u001b[0m\u001b[0mmodel_state\u001b[0m\u001b[0;34m,\u001b[0m \u001b[0mtrain\u001b[0m\u001b[0;34m)\u001b[0m\u001b[0;34m\u001b[0m\u001b[0;34m\u001b[0m\u001b[0m\n\u001b[1;32m      4\u001b[0m \u001b[0;32melse\u001b[0m\u001b[0;34m:\u001b[0m\u001b[0;34m\u001b[0m\u001b[0;34m\u001b[0m\u001b[0m\n\u001b[0;32m----> 5\u001b[0;31m     \u001b[0mhlda_est\u001b[0m\u001b[0;34m.\u001b[0m\u001b[0mfit\u001b[0m\u001b[0;34m(\u001b[0m\u001b[0mtrain\u001b[0m\u001b[0;34m)\u001b[0m\u001b[0;34m\u001b[0m\u001b[0;34m\u001b[0m\u001b[0m\n\u001b[0m\u001b[1;32m      6\u001b[0m     \u001b[0mhlda_est\u001b[0m\u001b[0;34m.\u001b[0m\u001b[0msave\u001b[0m\u001b[0;34m(\u001b[0m\u001b[0mmodel_state\u001b[0m\u001b[0;34m)\u001b[0m\u001b[0;34m\u001b[0m\u001b[0;34m\u001b[0m\u001b[0m\n",
      "\u001b[0;32m~/Sources/lda4rec-ng/src/lda4rec/estimators.py\u001b[0m in \u001b[0;36mfit\u001b[0;34m(self, interactions, clear_params)\u001b[0m\n\u001b[1;32m    218\u001b[0m \u001b[0;34m\u001b[0m\u001b[0m\n\u001b[1;32m    219\u001b[0m         \u001b[0;32mfor\u001b[0m \u001b[0mepoch_num\u001b[0m \u001b[0;32min\u001b[0m \u001b[0mrange\u001b[0m\u001b[0;34m(\u001b[0m\u001b[0mself\u001b[0m\u001b[0;34m.\u001b[0m\u001b[0m_n_iter\u001b[0m\u001b[0;34m)\u001b[0m\u001b[0;34m:\u001b[0m\u001b[0;34m\u001b[0m\u001b[0;34m\u001b[0m\u001b[0m\n\u001b[0;32m--> 220\u001b[0;31m             \u001b[0mepoch_loss\u001b[0m \u001b[0;34m=\u001b[0m \u001b[0msvi\u001b[0m\u001b[0;34m.\u001b[0m\u001b[0mstep\u001b[0m\u001b[0;34m(\u001b[0m\u001b[0;34m**\u001b[0m\u001b[0mmodel_params\u001b[0m\u001b[0;34m)\u001b[0m\u001b[0;34m\u001b[0m\u001b[0;34m\u001b[0m\u001b[0m\n\u001b[0m\u001b[1;32m    221\u001b[0m             \u001b[0mrun\u001b[0m\u001b[0;34m[\u001b[0m\u001b[0;34m\"train/loss\"\u001b[0m\u001b[0;34m]\u001b[0m\u001b[0;34m.\u001b[0m\u001b[0mlog\u001b[0m\u001b[0;34m(\u001b[0m\u001b[0mepoch_loss\u001b[0m\u001b[0;34m)\u001b[0m\u001b[0;34m\u001b[0m\u001b[0;34m\u001b[0m\u001b[0m\n\u001b[1;32m    222\u001b[0m             \u001b[0;32mif\u001b[0m \u001b[0mepoch_num\u001b[0m \u001b[0;34m%\u001b[0m \u001b[0mself\u001b[0m\u001b[0;34m.\u001b[0m\u001b[0m_log_steps\u001b[0m \u001b[0;34m==\u001b[0m \u001b[0;36m0\u001b[0m\u001b[0;34m:\u001b[0m\u001b[0;34m\u001b[0m\u001b[0;34m\u001b[0m\u001b[0m\n",
      "\u001b[0;32m~/.mambaforge/envs/lda4rec-ng/lib/python3.8/site-packages/pyro/infer/svi.py\u001b[0m in \u001b[0;36mstep\u001b[0;34m(self, *args, **kwargs)\u001b[0m\n\u001b[1;32m    143\u001b[0m         \u001b[0;31m# get loss and compute gradients\u001b[0m\u001b[0;34m\u001b[0m\u001b[0;34m\u001b[0m\u001b[0;34m\u001b[0m\u001b[0m\n\u001b[1;32m    144\u001b[0m         \u001b[0;32mwith\u001b[0m \u001b[0mpoutine\u001b[0m\u001b[0;34m.\u001b[0m\u001b[0mtrace\u001b[0m\u001b[0;34m(\u001b[0m\u001b[0mparam_only\u001b[0m\u001b[0;34m=\u001b[0m\u001b[0;32mTrue\u001b[0m\u001b[0;34m)\u001b[0m \u001b[0;32mas\u001b[0m \u001b[0mparam_capture\u001b[0m\u001b[0;34m:\u001b[0m\u001b[0;34m\u001b[0m\u001b[0;34m\u001b[0m\u001b[0m\n\u001b[0;32m--> 145\u001b[0;31m             \u001b[0mloss\u001b[0m \u001b[0;34m=\u001b[0m \u001b[0mself\u001b[0m\u001b[0;34m.\u001b[0m\u001b[0mloss_and_grads\u001b[0m\u001b[0;34m(\u001b[0m\u001b[0mself\u001b[0m\u001b[0;34m.\u001b[0m\u001b[0mmodel\u001b[0m\u001b[0;34m,\u001b[0m \u001b[0mself\u001b[0m\u001b[0;34m.\u001b[0m\u001b[0mguide\u001b[0m\u001b[0;34m,\u001b[0m \u001b[0;34m*\u001b[0m\u001b[0margs\u001b[0m\u001b[0;34m,\u001b[0m \u001b[0;34m**\u001b[0m\u001b[0mkwargs\u001b[0m\u001b[0;34m)\u001b[0m\u001b[0;34m\u001b[0m\u001b[0;34m\u001b[0m\u001b[0m\n\u001b[0m\u001b[1;32m    146\u001b[0m \u001b[0;34m\u001b[0m\u001b[0m\n\u001b[1;32m    147\u001b[0m         params = set(\n",
      "\u001b[0;32m~/.mambaforge/envs/lda4rec-ng/lib/python3.8/site-packages/pyro/infer/traceenum_elbo.py\u001b[0m in \u001b[0;36mloss_and_grads\u001b[0;34m(self, model, guide, *args, **kwargs)\u001b[0m\n\u001b[1;32m    561\u001b[0m     \u001b[0;32mdef\u001b[0m \u001b[0mloss_and_grads\u001b[0m\u001b[0;34m(\u001b[0m\u001b[0mself\u001b[0m\u001b[0;34m,\u001b[0m \u001b[0mmodel\u001b[0m\u001b[0;34m,\u001b[0m \u001b[0mguide\u001b[0m\u001b[0;34m,\u001b[0m \u001b[0;34m*\u001b[0m\u001b[0margs\u001b[0m\u001b[0;34m,\u001b[0m \u001b[0;34m**\u001b[0m\u001b[0mkwargs\u001b[0m\u001b[0;34m)\u001b[0m\u001b[0;34m:\u001b[0m\u001b[0;34m\u001b[0m\u001b[0;34m\u001b[0m\u001b[0m\n\u001b[1;32m    562\u001b[0m         \u001b[0mdifferentiable_loss\u001b[0m \u001b[0;34m=\u001b[0m \u001b[0mself\u001b[0m\u001b[0;34m.\u001b[0m\u001b[0mdifferentiable_loss\u001b[0m\u001b[0;34m(\u001b[0m\u001b[0mmodel\u001b[0m\u001b[0;34m,\u001b[0m \u001b[0mguide\u001b[0m\u001b[0;34m,\u001b[0m \u001b[0;34m*\u001b[0m\u001b[0margs\u001b[0m\u001b[0;34m,\u001b[0m \u001b[0;34m**\u001b[0m\u001b[0mkwargs\u001b[0m\u001b[0;34m)\u001b[0m\u001b[0;34m\u001b[0m\u001b[0;34m\u001b[0m\u001b[0m\n\u001b[0;32m--> 563\u001b[0;31m         \u001b[0mdifferentiable_loss\u001b[0m\u001b[0;34m.\u001b[0m\u001b[0mbackward\u001b[0m\u001b[0;34m(\u001b[0m\u001b[0;34m)\u001b[0m  \u001b[0;31m# this line triggers jit compilation\u001b[0m\u001b[0;34m\u001b[0m\u001b[0;34m\u001b[0m\u001b[0m\n\u001b[0m\u001b[1;32m    564\u001b[0m         \u001b[0mloss\u001b[0m \u001b[0;34m=\u001b[0m \u001b[0mdifferentiable_loss\u001b[0m\u001b[0;34m.\u001b[0m\u001b[0mitem\u001b[0m\u001b[0;34m(\u001b[0m\u001b[0;34m)\u001b[0m\u001b[0;34m\u001b[0m\u001b[0;34m\u001b[0m\u001b[0m\n\u001b[1;32m    565\u001b[0m \u001b[0;34m\u001b[0m\u001b[0m\n",
      "\u001b[0;32m~/.mambaforge/envs/lda4rec-ng/lib/python3.8/site-packages/torch/_tensor.py\u001b[0m in \u001b[0;36mbackward\u001b[0;34m(self, gradient, retain_graph, create_graph, inputs)\u001b[0m\n\u001b[1;32m    253\u001b[0m                 \u001b[0mcreate_graph\u001b[0m\u001b[0;34m=\u001b[0m\u001b[0mcreate_graph\u001b[0m\u001b[0;34m,\u001b[0m\u001b[0;34m\u001b[0m\u001b[0;34m\u001b[0m\u001b[0m\n\u001b[1;32m    254\u001b[0m                 inputs=inputs)\n\u001b[0;32m--> 255\u001b[0;31m         \u001b[0mtorch\u001b[0m\u001b[0;34m.\u001b[0m\u001b[0mautograd\u001b[0m\u001b[0;34m.\u001b[0m\u001b[0mbackward\u001b[0m\u001b[0;34m(\u001b[0m\u001b[0mself\u001b[0m\u001b[0;34m,\u001b[0m \u001b[0mgradient\u001b[0m\u001b[0;34m,\u001b[0m \u001b[0mretain_graph\u001b[0m\u001b[0;34m,\u001b[0m \u001b[0mcreate_graph\u001b[0m\u001b[0;34m,\u001b[0m \u001b[0minputs\u001b[0m\u001b[0;34m=\u001b[0m\u001b[0minputs\u001b[0m\u001b[0;34m)\u001b[0m\u001b[0;34m\u001b[0m\u001b[0;34m\u001b[0m\u001b[0m\n\u001b[0m\u001b[1;32m    256\u001b[0m \u001b[0;34m\u001b[0m\u001b[0m\n\u001b[1;32m    257\u001b[0m     \u001b[0;32mdef\u001b[0m \u001b[0mregister_hook\u001b[0m\u001b[0;34m(\u001b[0m\u001b[0mself\u001b[0m\u001b[0;34m,\u001b[0m \u001b[0mhook\u001b[0m\u001b[0;34m)\u001b[0m\u001b[0;34m:\u001b[0m\u001b[0;34m\u001b[0m\u001b[0;34m\u001b[0m\u001b[0m\n",
      "\u001b[0;32m~/.mambaforge/envs/lda4rec-ng/lib/python3.8/site-packages/torch/autograd/__init__.py\u001b[0m in \u001b[0;36mbackward\u001b[0;34m(tensors, grad_tensors, retain_graph, create_graph, grad_variables, inputs)\u001b[0m\n\u001b[1;32m    145\u001b[0m         \u001b[0mretain_graph\u001b[0m \u001b[0;34m=\u001b[0m \u001b[0mcreate_graph\u001b[0m\u001b[0;34m\u001b[0m\u001b[0;34m\u001b[0m\u001b[0m\n\u001b[1;32m    146\u001b[0m \u001b[0;34m\u001b[0m\u001b[0m\n\u001b[0;32m--> 147\u001b[0;31m     Variable._execution_engine.run_backward(\n\u001b[0m\u001b[1;32m    148\u001b[0m         \u001b[0mtensors\u001b[0m\u001b[0;34m,\u001b[0m \u001b[0mgrad_tensors_\u001b[0m\u001b[0;34m,\u001b[0m \u001b[0mretain_graph\u001b[0m\u001b[0;34m,\u001b[0m \u001b[0mcreate_graph\u001b[0m\u001b[0;34m,\u001b[0m \u001b[0minputs\u001b[0m\u001b[0;34m,\u001b[0m\u001b[0;34m\u001b[0m\u001b[0;34m\u001b[0m\u001b[0m\n\u001b[1;32m    149\u001b[0m         allow_unreachable=True, accumulate_grad=True)  # allow_unreachable flag\n",
      "\u001b[0;31mKeyboardInterrupt\u001b[0m: "
     ]
    }
   ],
   "source": [
    "model_state = \"../models/hlda6_est.state\"\n",
    "if Path(model_state).is_file():\n",
    "    hlda_est.load(model_state, train)\n",
    "else:\n",
    "    hlda_est.fit(train)\n",
    "    hlda_est.save(model_state)"
   ]
  },
  {
   "cell_type": "code",
   "execution_count": 46,
   "metadata": {},
   "outputs": [
    {
     "data": {
      "text/html": [
       "<div>\n",
       "<style scoped>\n",
       "    .dataframe tbody tr th:only-of-type {\n",
       "        vertical-align: middle;\n",
       "    }\n",
       "\n",
       "    .dataframe tbody tr th {\n",
       "        vertical-align: top;\n",
       "    }\n",
       "\n",
       "    .dataframe thead th {\n",
       "        text-align: right;\n",
       "    }\n",
       "</style>\n",
       "<table border=\"1\" class=\"dataframe\">\n",
       "  <thead>\n",
       "    <tr style=\"text-align: right;\">\n",
       "      <th></th>\n",
       "      <th>train</th>\n",
       "      <th>test</th>\n",
       "    </tr>\n",
       "    <tr>\n",
       "      <th>metric</th>\n",
       "      <th></th>\n",
       "      <th></th>\n",
       "    </tr>\n",
       "  </thead>\n",
       "  <tbody>\n",
       "    <tr>\n",
       "      <th>prec</th>\n",
       "      <td>0.354590</td>\n",
       "      <td>0.147291</td>\n",
       "    </tr>\n",
       "    <tr>\n",
       "      <th>recall</th>\n",
       "      <td>0.069201</td>\n",
       "      <td>0.108636</td>\n",
       "    </tr>\n",
       "    <tr>\n",
       "      <th>mrr</th>\n",
       "      <td>0.555087</td>\n",
       "      <td>0.316781</td>\n",
       "    </tr>\n",
       "    <tr>\n",
       "      <th>map</th>\n",
       "      <td>0.237797</td>\n",
       "      <td>0.093544</td>\n",
       "    </tr>\n",
       "  </tbody>\n",
       "</table>\n",
       "</div>"
      ],
      "text/plain": [
       "           train      test\n",
       "metric                    \n",
       "prec    0.354590  0.147291\n",
       "recall  0.069201  0.108636\n",
       "mrr     0.555087  0.316781\n",
       "map     0.237797  0.093544"
      ]
     },
     "execution_count": 46,
     "metadata": {},
     "output_type": "execute_result"
    }
   ],
   "source": [
    "summary(hlda_est, train=train, test=test)"
   ]
  },
  {
   "cell_type": "code",
   "execution_count": 37,
   "metadata": {},
   "outputs": [],
   "source": [
    "hlda_est2 = LDA4RecEst(embedding_dim=2, n_iter=10_000, batch_size=128, learning_rate=0.001, use_jit=True, model=lda.hier_model, guide=lda.hier_geo_guide)"
   ]
  },
  {
   "cell_type": "code",
   "execution_count": 48,
   "metadata": {},
   "outputs": [
    {
     "name": "stdout",
     "output_type": "stream",
     "text": [
      "INFO:lda4rec.estimators:Epoch     0: loss 516025.5625\n",
      "INFO:lda4rec.estimators:Epoch   100: loss 473443.875\n",
      "INFO:lda4rec.estimators:Epoch   200: loss 490520.9375\n",
      "INFO:lda4rec.estimators:Epoch   300: loss 495173.15625\n",
      "INFO:lda4rec.estimators:Epoch   400: loss 475623.0625\n",
      "INFO:lda4rec.estimators:Epoch   500: loss 441028.71875\n",
      "INFO:lda4rec.estimators:Epoch   600: loss 418119.4375\n",
      "INFO:lda4rec.estimators:Epoch   700: loss 428489.53125\n",
      "INFO:lda4rec.estimators:Epoch   800: loss 431334.28125\n",
      "INFO:lda4rec.estimators:Epoch   900: loss 392818.25\n",
      "INFO:lda4rec.estimators:Epoch  1000: loss 413497.3125\n",
      "INFO:lda4rec.estimators:Epoch  1100: loss 421854.21875\n",
      "INFO:lda4rec.estimators:Epoch  1200: loss 387997.71875\n",
      "INFO:lda4rec.estimators:Epoch  1300: loss 399614.78125\n",
      "INFO:lda4rec.estimators:Epoch  1400: loss 427539.625\n",
      "INFO:lda4rec.estimators:Epoch  1500: loss 400235.78125\n",
      "INFO:lda4rec.estimators:Epoch  1600: loss 398880.46875\n",
      "INFO:lda4rec.estimators:Epoch  1700: loss 402022.25\n",
      "INFO:lda4rec.estimators:Epoch  1800: loss 422958.3125\n",
      "INFO:lda4rec.estimators:Epoch  1900: loss 433707.1875\n",
      "INFO:lda4rec.estimators:Epoch  2000: loss 399766.71875\n",
      "INFO:lda4rec.estimators:Epoch  2100: loss 410303.34375\n",
      "INFO:lda4rec.estimators:Epoch  2200: loss 392433.875\n",
      "INFO:lda4rec.estimators:Epoch  2300: loss 372506.34375\n",
      "INFO:lda4rec.estimators:Epoch  2400: loss 431563.59375\n",
      "INFO:lda4rec.estimators:Epoch  2500: loss 387070.3125\n",
      "INFO:lda4rec.estimators:Epoch  2600: loss 389777.90625\n",
      "INFO:lda4rec.estimators:Epoch  2700: loss 375739.28125\n",
      "INFO:lda4rec.estimators:Epoch  2800: loss 398856.0\n",
      "INFO:lda4rec.estimators:Epoch  2900: loss 392883.0\n",
      "INFO:lda4rec.estimators:Epoch  3000: loss 390158.0625\n",
      "INFO:lda4rec.estimators:Epoch  3100: loss 432778.0\n",
      "INFO:lda4rec.estimators:Epoch  3200: loss 416016.90625\n",
      "INFO:lda4rec.estimators:Epoch  3300: loss 424983.3125\n",
      "INFO:lda4rec.estimators:Epoch  3400: loss 420955.40625\n",
      "INFO:lda4rec.estimators:Epoch  3500: loss 407399.9375\n",
      "INFO:lda4rec.estimators:Epoch  3600: loss 367521.875\n",
      "INFO:lda4rec.estimators:Epoch  3700: loss 410459.625\n",
      "INFO:lda4rec.estimators:Epoch  3800: loss 404142.71875\n",
      "INFO:lda4rec.estimators:Epoch  3900: loss 392940.78125\n",
      "INFO:lda4rec.estimators:Epoch  4000: loss 410403.46875\n",
      "INFO:lda4rec.estimators:Epoch  4100: loss 394171.5\n",
      "INFO:lda4rec.estimators:Epoch  4200: loss 400126.40625\n",
      "INFO:lda4rec.estimators:Epoch  4300: loss 375891.0625\n",
      "INFO:lda4rec.estimators:Epoch  4400: loss 372790.9375\n",
      "INFO:lda4rec.estimators:Epoch  4500: loss 412545.40625\n",
      "INFO:lda4rec.estimators:Epoch  4600: loss 386372.90625\n",
      "INFO:lda4rec.estimators:Epoch  4700: loss 374796.5\n",
      "INFO:lda4rec.estimators:Epoch  4800: loss 364539.15625\n",
      "INFO:lda4rec.estimators:Epoch  4900: loss 361968.53125\n",
      "INFO:lda4rec.estimators:Epoch  5000: loss 402000.65625\n",
      "INFO:lda4rec.estimators:Epoch  5100: loss 400599.1875\n",
      "INFO:lda4rec.estimators:Epoch  5200: loss 382317.40625\n",
      "INFO:lda4rec.estimators:Epoch  5300: loss 411845.53125\n",
      "INFO:lda4rec.estimators:Epoch  5400: loss 391600.375\n",
      "INFO:lda4rec.estimators:Epoch  5500: loss 357696.65625\n",
      "INFO:lda4rec.estimators:Epoch  5600: loss 390733.875\n",
      "INFO:lda4rec.estimators:Epoch  5700: loss 389995.0\n",
      "INFO:lda4rec.estimators:Epoch  5800: loss 392293.28125\n",
      "INFO:lda4rec.estimators:Epoch  5900: loss 378673.5625\n",
      "INFO:lda4rec.estimators:Epoch  6000: loss 360472.9375\n",
      "INFO:lda4rec.estimators:Epoch  6100: loss 345994.78125\n",
      "INFO:lda4rec.estimators:Epoch  6200: loss 345718.59375\n",
      "INFO:lda4rec.estimators:Epoch  6300: loss 352911.03125\n",
      "INFO:lda4rec.estimators:Epoch  6400: loss 393941.03125\n",
      "INFO:lda4rec.estimators:Epoch  6500: loss 387843.6875\n",
      "INFO:lda4rec.estimators:Epoch  6600: loss 341038.71875\n",
      "INFO:lda4rec.estimators:Epoch  6700: loss 356005.8125\n",
      "INFO:lda4rec.estimators:Epoch  6800: loss 408090.125\n",
      "INFO:lda4rec.estimators:Epoch  6900: loss 348048.03125\n",
      "INFO:lda4rec.estimators:Epoch  7000: loss 420663.84375\n",
      "INFO:lda4rec.estimators:Epoch  7100: loss 362945.6875\n",
      "INFO:lda4rec.estimators:Epoch  7200: loss 388498.5625\n",
      "INFO:lda4rec.estimators:Epoch  7300: loss 393541.9375\n",
      "INFO:lda4rec.estimators:Epoch  7400: loss 364208.34375\n",
      "INFO:lda4rec.estimators:Epoch  7500: loss 385275.9375\n",
      "INFO:lda4rec.estimators:Epoch  7600: loss 380475.5625\n",
      "INFO:lda4rec.estimators:Epoch  7700: loss 361259.90625\n",
      "INFO:lda4rec.estimators:Epoch  7800: loss 364312.28125\n",
      "INFO:lda4rec.estimators:Epoch  7900: loss 370843.0625\n",
      "INFO:lda4rec.estimators:Epoch  8000: loss 357003.09375\n",
      "INFO:lda4rec.estimators:Epoch  8100: loss 364516.65625\n",
      "INFO:lda4rec.estimators:Epoch  8200: loss 395875.75\n",
      "INFO:lda4rec.estimators:Epoch  8300: loss 363478.84375\n",
      "INFO:lda4rec.estimators:Epoch  8400: loss 387200.34375\n",
      "INFO:lda4rec.estimators:Epoch  8500: loss 419642.53125\n",
      "INFO:lda4rec.estimators:Epoch  8600: loss 364798.8125\n",
      "INFO:lda4rec.estimators:Epoch  8700: loss 357542.96875\n",
      "INFO:lda4rec.estimators:Epoch  8800: loss 431990.625\n",
      "INFO:lda4rec.estimators:Epoch  8900: loss 361180.46875\n",
      "INFO:lda4rec.estimators:Epoch  9000: loss 343747.75\n",
      "INFO:lda4rec.estimators:Epoch  9100: loss 373811.5625\n",
      "INFO:lda4rec.estimators:Epoch  9200: loss 356093.96875\n",
      "INFO:lda4rec.estimators:Epoch  9300: loss 401906.9375\n",
      "INFO:lda4rec.estimators:Epoch  9400: loss 389390.0625\n",
      "INFO:lda4rec.estimators:Epoch  9500: loss 403445.0\n",
      "INFO:lda4rec.estimators:Epoch  9600: loss 349243.78125\n",
      "INFO:lda4rec.estimators:Epoch  9700: loss 384063.1875\n",
      "INFO:lda4rec.estimators:Epoch  9800: loss 388288.96875\n",
      "INFO:lda4rec.estimators:Epoch  9900: loss 378602.34375\n"
     ]
    }
   ],
   "source": [
    "model_state = \"../models/hlda8_est.state\"\n",
    "if Path(model_state).is_file():\n",
    "    hlda_est2.load(model_state, train)\n",
    "else:\n",
    "    hlda_est2.fit(train)\n",
    "    hlda_est2.save(model_state)"
   ]
  },
  {
   "cell_type": "code",
   "execution_count": 20,
   "metadata": {},
   "outputs": [
    {
     "data": {
      "text/html": [
       "<div>\n",
       "<style scoped>\n",
       "    .dataframe tbody tr th:only-of-type {\n",
       "        vertical-align: middle;\n",
       "    }\n",
       "\n",
       "    .dataframe tbody tr th {\n",
       "        vertical-align: top;\n",
       "    }\n",
       "\n",
       "    .dataframe thead th {\n",
       "        text-align: right;\n",
       "    }\n",
       "</style>\n",
       "<table border=\"1\" class=\"dataframe\">\n",
       "  <thead>\n",
       "    <tr style=\"text-align: right;\">\n",
       "      <th></th>\n",
       "      <th>train</th>\n",
       "      <th>test</th>\n",
       "    </tr>\n",
       "    <tr>\n",
       "      <th>metric</th>\n",
       "      <th></th>\n",
       "      <th></th>\n",
       "    </tr>\n",
       "  </thead>\n",
       "  <tbody>\n",
       "    <tr>\n",
       "      <th>prec</th>\n",
       "      <td>0.358197</td>\n",
       "      <td>0.151067</td>\n",
       "    </tr>\n",
       "    <tr>\n",
       "      <th>recall</th>\n",
       "      <td>0.069778</td>\n",
       "      <td>0.113728</td>\n",
       "    </tr>\n",
       "    <tr>\n",
       "      <th>mrr</th>\n",
       "      <td>0.032355</td>\n",
       "      <td>0.048623</td>\n",
       "    </tr>\n",
       "  </tbody>\n",
       "</table>\n",
       "</div>"
      ],
      "text/plain": [
       "           train      test\n",
       "metric                    \n",
       "prec    0.358197  0.151067\n",
       "recall  0.069778  0.113728\n",
       "mrr     0.032355  0.048623"
      ]
     },
     "execution_count": 20,
     "metadata": {},
     "output_type": "execute_result"
    }
   ],
   "source": [
    "summary(hlda_est, train=train, test=test)"
   ]
  },
  {
   "cell_type": "code",
   "execution_count": null,
   "metadata": {},
   "outputs": [],
   "source": [
    "lda_est.predict_posterior = True\n",
    "summary(lda_est, train=train, test=test)"
   ]
  },
  {
   "cell_type": "code",
   "execution_count": 46,
   "metadata": {},
   "outputs": [
    {
     "data": {
      "text/plain": [
       "<AxesSubplot:ylabel='Count'>"
      ]
     },
     "execution_count": 46,
     "metadata": {},
     "output_type": "execute_result"
    },
    {
     "data": {
      "image/png": "[encoded data removed]",
      "text/plain": [
       "<Figure size 1152x864 with 1 Axes>"
      ]
     },
     "metadata": {
      "image/png": {
       "height": 686,
       "width": 950
      }
     },
     "output_type": "display_data"
    }
   ],
   "source": [
    "sns.histplot(dist.LogNormal(-0.5, 1.).sample((10_000,)))"
   ]
  },
  {
   "cell_type": "code",
   "execution_count": null,
   "metadata": {},
   "outputs": [],
   "source": [
    "sns.histplot(dist.LogNormal(-0.5,10).sample((10_000,)))\n",
    "plt.xlim(0, 5)"
   ]
  }
 ],
 "metadata": {
  "kernelspec": {
   "display_name": "Python 3 (ipykernel)",
   "language": "python",
   "name": "python3"
  },
  "language_info": {
   "codemirror_mode": {
    "name": "ipython",
    "version": 3
   },
   "file_extension": ".py",
   "mimetype": "text/x-python",
   "name": "python",
   "nbconvert_exporter": "python",
   "pygments_lexer": "ipython3",
   "version": "3.8.10"
  },
  "pycharm": {
   "stem_cell": {
    "cell_type": "raw",
    "metadata": {
     "collapsed": false
    },
    "source": []
   }
  }
 },
 "nbformat": 4,
 "nbformat_minor": 4
}
