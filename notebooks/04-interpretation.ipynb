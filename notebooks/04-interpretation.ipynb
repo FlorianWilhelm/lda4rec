{
 "cells": [
  {
   "cell_type": "code",
   "execution_count": 65,
   "metadata": {},
   "outputs": [
    {
     "name": "stdout",
     "output_type": "stream",
     "text": [
      "The autoreload extension is already loaded. To reload it, use:\n",
      "  %reload_ext autoreload\n"
     ]
    }
   ],
   "source": [
    "import functools\n",
    "from functools import partial\n",
    "import itertools\n",
    "import logging\n",
    "import math\n",
    "import os\n",
    "import pickle\n",
    "import sys\n",
    "from pathlib import Path\n",
    "\n",
    "import matplotlib as mpl\n",
    "import matplotlib.pyplot as plt\n",
    "import numpy as np\n",
    "import scipy as sp\n",
    "import pingouin as pg\n",
    "import seaborn as sns\n",
    "import yaml\n",
    "#import pingouin as pg\n",
    "\n",
    "%load_ext autoreload\n",
    "%autoreload 2\n",
    "\n",
    "%matplotlib inline\n",
    "\n",
    "sns.set_context(\"poster\")\n",
    "sns.set(rc={\"figure.figsize\": (16, 12.0)})\n",
    "sns.set_style(\"whitegrid\")\n",
    "\n",
    "import numpy as np\n",
    "import pandas as pd\n",
    "from scipy.stats import kendalltau, rankdata, spearmanr, pearsonr, ttest_rel\n",
    "import torch.nn.functional as F\n",
    "\n",
    "pd.set_option(\"display.max_rows\", 120)\n",
    "pd.set_option(\"display.max_columns\", 120)\n",
    "\n",
    "logging.basicConfig(level=logging.INFO, stream=sys.stdout)"
   ]
  },
  {
   "cell_type": "code",
   "execution_count": 192,
   "metadata": {},
   "outputs": [],
   "source": [
    "from lda4rec.datasets import Interactions, DataLoader, random_train_test_split, MOVIELENS_1M,MetaData, get_dataset, items_per_user_train_test_split\n",
    "from lda4rec.evaluations import summary\n",
    "from lda4rec.estimators import MFEst, PopEst, LDA4RecEst, SNMFEst\n",
    "from lda4rec.utils import process_ids, cmp_ranks, dist_overlap, norm_entropy, Config, apply_along_dim\n",
    "from lda4rec import lda"
   ]
  },
  {
   "cell_type": "code",
   "execution_count": 67,
   "metadata": {},
   "outputs": [],
   "source": [
    "import pyro\n",
    "import pyro.distributions as dist\n",
    "import pyro.optim as optim\n",
    "import torch\n",
    "from pyro.distributions import constraints\n",
    "from pyro.infer import SVI, Predictive, Trace_ELBO, TraceEnum_ELBO, config_enumerate"
   ]
  },
  {
   "cell_type": "code",
   "execution_count": 68,
   "metadata": {},
   "outputs": [
    {
     "name": "stdout",
     "output_type": "stream",
     "text": [
      "offline/af3dec97-0be6-4f97-910b-8c6b2c34bf6f\n",
      "Remember to stop your run once you’ve finished logging your metadata (https://docs.neptune.ai/api-reference/run#stop). It will be stopped automatically only when the notebook kernel/interactive console is terminated.\n"
     ]
    },
    {
     "data": {
      "text/plain": [
       "<neptune.new.run.Run at 0x7ff64326cf10>"
      ]
     },
     "execution_count": 68,
     "metadata": {},
     "output_type": "execute_result"
    }
   ],
   "source": [
    "import neptune.new as neptune\n",
    "# init dummy neptune to avoid problems with logging\n",
    "neptune.init(mode='offline') "
   ]
  },
  {
   "cell_type": "code",
   "execution_count": 69,
   "metadata": {},
   "outputs": [],
   "source": [
    "from icecream import ic, install\n",
    "\n",
    "install()\n",
    "# configure icecream\n",
    "def ic_str(obj):\n",
    "    if hasattr(obj, \"shape\"):\n",
    "        return f\"{obj} \"  #\n",
    "    else:\n",
    "        return str(obj)"
   ]
  },
  {
   "cell_type": "code",
   "execution_count": 70,
   "metadata": {},
   "outputs": [],
   "source": [
    "ic.configureOutput(argToStringFunction=ic_str)"
   ]
  },
  {
   "cell_type": "markdown",
   "metadata": {
    "tags": []
   },
   "source": [
    "## Interpretation"
   ]
  },
  {
   "cell_type": "code",
   "execution_count": 71,
   "metadata": {},
   "outputs": [],
   "source": [
    "md = MetaData.from_movielens_1m()"
   ]
  },
  {
   "cell_type": "code",
   "execution_count": 72,
   "metadata": {},
   "outputs": [],
   "source": [
    "cfg = Config(Path('../configs/exp_25.yaml'))\n",
    "exp_cfg = cfg[\"experiment\"]"
   ]
  },
  {
   "cell_type": "code",
   "execution_count": 73,
   "metadata": {},
   "outputs": [
    {
     "data": {
      "text/plain": [
       "{'dataset': 'movielens-1m',\n",
       " 'dataset_seed': 1729,\n",
       " 'est_params': {'batch_size': 256,\n",
       "  'embedding_dim': 16,\n",
       "  'learning_rate': 0.001,\n",
       "  'n_iter': 200},\n",
       " 'estimator': 'MFEst',\n",
       " 'interaction_pivot': 0,\n",
       " 'max_user_interactions': 200,\n",
       " 'min_user_interactions': 20,\n",
       " 'model_seed': 1981,\n",
       " 'train_test_split': 'random_train_test_split'}"
      ]
     },
     "execution_count": 73,
     "metadata": {},
     "output_type": "execute_result"
    }
   ],
   "source": [
    "exp_cfg"
   ]
  },
  {
   "cell_type": "code",
   "execution_count": 187,
   "metadata": {},
   "outputs": [],
   "source": [
    "data = get_dataset(\"goodbooks\")"
   ]
  },
  {
   "cell_type": "code",
   "execution_count": 197,
   "metadata": {},
   "outputs": [
    {
     "data": {
      "text/plain": [
       "array([ 6852,  7850,  9407,  9665, 10444, 11130, 11206, 11354, 12701,\n",
       "       13339, 14047, 15116, 15188, 15703, 16160, 16385, 17670, 18753,\n",
       "       19779, 22238, 23789, 23975, 24300, 24700, 24774, 24933, 24936,\n",
       "       25456, 26100, 26220, 26433, 26489, 26514, 26915, 27214, 27813,\n",
       "       28281, 29126, 29371, 29496, 29582, 29607, 29856, 30054, 30179,\n",
       "       30233, 30247, 30570, 30817, 30845, 31904, 32261, 32455, 32535,\n",
       "       32810, 32819, 32940, 33040, 33124, 34007, 34066, 34434, 34546,\n",
       "       34685, 34691, 34704, 35131, 35411, 35421, 35863, 36226, 36318,\n",
       "       36399, 36480, 36541, 36646, 37441, 37500, 37589, 37713, 37926,\n",
       "       38534, 40049, 40315, 40724, 40820, 40921, 41023, 41243, 41380,\n",
       "       41410, 41429, 41745, 41912, 42079, 42300, 42418, 42879, 43111,\n",
       "       43896, 43942, 44212, 44927, 45102, 45207, 46060, 46619, 46683,\n",
       "       46743, 46766, 46768, 47461, 47748, 48237, 48324, 48625, 48665,\n",
       "       49024, 49189, 49292, 49373, 49689, 49855, 50528, 50662, 50924,\n",
       "       51723, 51848, 52314, 53104])"
      ]
     },
     "execution_count": 197,
     "metadata": {},
     "output_type": "execute_result"
    }
   ],
   "source": [
    "data.min_user_interactions_(29)"
   ]
  },
  {
   "cell_type": "code",
   "execution_count": 198,
   "metadata": {},
   "outputs": [
    {
     "data": {
      "text/plain": [
       "(<Interactions dataset (53424 users x 10000 items x 4960557 interactions)>,\n",
       " <Interactions dataset (53424 users x 10000 items x 1012586 interactions)>)"
      ]
     },
     "execution_count": 198,
     "metadata": {},
     "output_type": "execute_result"
    }
   ],
   "source": [
    "items_per_user_train_test_split(data, 19)"
   ]
  },
  {
   "cell_type": "code",
   "execution_count": 200,
   "metadata": {},
   "outputs": [
    {
     "data": {
      "text/plain": [
       "0.20412748003903594"
      ]
     },
     "execution_count": 200,
     "metadata": {},
     "output_type": "execute_result"
    }
   ],
   "source": [
    "1012586 / 4960557"
   ]
  },
  {
   "cell_type": "code",
   "execution_count": 188,
   "metadata": {},
   "outputs": [
    {
     "data": {
      "text/plain": [
       "53424"
      ]
     },
     "execution_count": 188,
     "metadata": {},
     "output_type": "execute_result"
    }
   ],
   "source": [
    "data.n_users"
   ]
  },
  {
   "cell_type": "code",
   "execution_count": 208,
   "metadata": {},
   "outputs": [
    {
     "data": {
      "text/plain": [
       "array([   3,   11,   13,   19,   20,   40,   42,   46,   54,   63,   65,\n",
       "         88,   93,   97,  123,  127,  140,  151,  152,  157,  159,  163,\n",
       "        167,  170,  171,  196,  199,  206,  208,  212,  216,  225,  226,\n",
       "        249,  253,  275,  276,  282,  297,  303,  310,  312,  314,  316,\n",
       "        317,  319,  340,  344,  352,  355,  360,  363,  366,  372,  382,\n",
       "        383,  394,  416,  420,  426,  447,  454,  467,  487,  488,  490,\n",
       "        496,  501,  510,  526,  534,  558,  564,  567,  571,  573,  577,\n",
       "        588,  591,  598,  599,  606,  616,  618,  639,  641,  652,  664,\n",
       "        685,  702,  707,  718,  722,  744,  750,  760,  762,  770,  774,\n",
       "        781,  789,  820,  826,  832,  834,  840,  873,  897,  899,  901,\n",
       "        905,  906,  931,  940,  941,  946,  950,  968,  985, 1038, 1045,\n",
       "       1069, 1082, 1101, 1125, 1143, 1153, 1156, 1165, 1170, 1173, 1188,\n",
       "       1189, 1196, 1212, 1224, 1225, 1233, 1235, 1248, 1249, 1281, 1304,\n",
       "       1306, 1308, 1309, 1317, 1318, 1335, 1345, 1350, 1362, 1383, 1384,\n",
       "       1393, 1405, 1411, 1415, 1428, 1430, 1451, 1452, 1453, 1455, 1458,\n",
       "       1459, 1470, 1484, 1487, 1492, 1514, 1517, 1519, 1533, 1538, 1540,\n",
       "       1548, 1557, 1565, 1567, 1581, 1595, 1603, 1609, 1611, 1614, 1620,\n",
       "       1621, 1651, 1652, 1655, 1661, 1663, 1673, 1681, 1685, 1702, 1707,\n",
       "       1712, 1718, 1729, 1750, 1762, 1765, 1770, 1782, 1786, 1794, 1800,\n",
       "       1812, 1820, 1822, 1837, 1839, 1843, 1847, 1848, 1863, 1885, 1891,\n",
       "       1892, 1897, 1905, 1906, 1913, 1917, 1926, 1928, 1935, 1963, 1966,\n",
       "       1985, 1988, 1990, 1992, 2027, 2036, 2043, 2044, 2052, 2060, 2107,\n",
       "       2110, 2127, 2132, 2134, 2140, 2151, 2159, 2181, 2192, 2206, 2208,\n",
       "       2233, 2251, 2259, 2267, 2268, 2276, 2286, 2291, 2294, 2295, 2310,\n",
       "       2324, 2335, 2338, 2344, 2346, 2355, 2372, 2374, 2378, 2380, 2384,\n",
       "       2387, 2398, 2412, 2421, 2430, 2433, 2439, 2440, 2442, 2448, 2449,\n",
       "       2466, 2469, 2487, 2489, 2501, 2515, 2523, 2526, 2529, 2537, 2541,\n",
       "       2542, 2548, 2552, 2562, 2581, 2583, 2597, 2612, 2617, 2625, 2639,\n",
       "       2643, 2645, 2646, 2656, 2670, 2672, 2685, 2686, 2689, 2695, 2704,\n",
       "       2705, 2706, 2712, 2713, 2715, 2716, 2721, 2728, 2734, 2754, 2758,\n",
       "       2762, 2766, 2798, 2812, 2815, 2818, 2833, 2835, 2866, 2870, 2878,\n",
       "       2883, 2892, 2901, 2907, 2919, 2922, 2924, 2929, 2931, 2955, 2964,\n",
       "       2976, 2981, 2983, 3008, 3018, 3020, 3026, 3029, 3033, 3039, 3042,\n",
       "       3067, 3070, 3075, 3121, 3123, 3131, 3132, 3148, 3159, 3175, 3178,\n",
       "       3180, 3186, 3187, 3211, 3221, 3224, 3233, 3235, 3243, 3253, 3263,\n",
       "       3272, 3274, 3281, 3285, 3286, 3287, 3290, 3302, 3306, 3323, 3324,\n",
       "       3329, 3334, 3365, 3374, 3375, 3387, 3395, 3403, 3406, 3420, 3439,\n",
       "       3442, 3447, 3454, 3487, 3494, 3495, 3529, 3541, 3544, 3547, 3551,\n",
       "       3569, 3603, 3615, 3622, 3632, 3633, 3635, 3641, 3724, 3738, 3763,\n",
       "       3764, 3782, 3786, 3787, 3796, 3801, 3802, 3825, 3837, 3862, 3869,\n",
       "       3876, 3882, 3896, 3910, 3914, 3917, 3927, 3932, 3938, 3958, 3959,\n",
       "       3968, 3971, 4007, 4009, 4018, 4024, 4037, 4055, 4064, 4067, 4072,\n",
       "       4073, 4099, 4105, 4108, 4109, 4141, 4142, 4144, 4145, 4153, 4157,\n",
       "       4158, 4162, 4165, 4175, 4177, 4183, 4190, 4191, 4196, 4200, 4201,\n",
       "       4208, 4210, 4215, 4227, 4229, 4243, 4253, 4255, 4258, 4263, 4269,\n",
       "       4287, 4303, 4324, 4331, 4339, 4347, 4348, 4364, 4371, 4382, 4384,\n",
       "       4391, 4392, 4395, 4397, 4399, 4409, 4412, 4418, 4420, 4426, 4462,\n",
       "       4463, 4491, 4499, 4503, 4514, 4524, 4526, 4536, 4541, 4546, 4547,\n",
       "       4548, 4549, 4553, 4557, 4563, 4575, 4582, 4596, 4613, 4621, 4627,\n",
       "       4635, 4664, 4671, 4676, 4695, 4697, 4702, 4729, 4740, 4748, 4751,\n",
       "       4754, 4755, 4757, 4774, 4775, 4791, 4821, 4838, 4850, 4870, 4872,\n",
       "       4879, 4880, 4890, 4899, 4911, 4925, 4934, 4942, 4943, 4954, 4967,\n",
       "       4970, 4973, 4985, 4987, 4990, 4991, 4995, 5006, 5011, 5026, 5027,\n",
       "       5029, 5042, 5051, 5061, 5068, 5072, 5109, 5115, 5116, 5118, 5121,\n",
       "       5129, 5144, 5151, 5154, 5158, 5167, 5170, 5173, 5191, 5206, 5214,\n",
       "       5215, 5227, 5230, 5237, 5242, 5257, 5273, 5279, 5294, 5308, 5313,\n",
       "       5319, 5350, 5357, 5369, 5379, 5380, 5382, 5387, 5390, 5391, 5397,\n",
       "       5399, 5406, 5408, 5410, 5438, 5464, 5466, 5470, 5476, 5524, 5528,\n",
       "       5532, 5540, 5578, 5585, 5605, 5607, 5627, 5634, 5655, 5671, 5689,\n",
       "       5693, 5695, 5696, 5718, 5724, 5734, 5771, 5780, 5783, 5795, 5799,\n",
       "       5803, 5809, 5816, 5827, 5862, 5875, 5876, 5882, 5898, 5903, 5917,\n",
       "       5931, 5961, 5966, 5982, 5998, 6011, 6033, 6037])"
      ]
     },
     "execution_count": 208,
     "metadata": {},
     "output_type": "execute_result"
    }
   ],
   "source": [
    "data_rng = np.random.default_rng(exp_cfg[\"dataset_seed\"])\n",
    "data = get_dataset(exp_cfg[\"dataset\"], data_dir=cfg[\"main\"][\"data_path\"])\n",
    "data.implicit_(exp_cfg[\"interaction_pivot\"])  # implicit feedback\n",
    "#data.max_user_interactions_(exp_cfg[\"max_user_interactions\"], rng=data_rng)\n",
    "data.min_user_interactions_(29)"
   ]
  },
  {
   "cell_type": "code",
   "execution_count": 209,
   "metadata": {},
   "outputs": [
    {
     "data": {
      "text/plain": [
       "(<Interactions dataset (6040 users x 3706 items x 882268 interactions)>,\n",
       " <Interactions dataset (6040 users x 3706 items x 101859 interactions)>)"
      ]
     },
     "execution_count": 209,
     "metadata": {},
     "output_type": "execute_result"
    }
   ],
   "source": [
    "items_per_user_train_test_split(data, 19)"
   ]
  },
  {
   "cell_type": "code",
   "execution_count": 210,
   "metadata": {},
   "outputs": [
    {
     "data": {
      "text/plain": [
       "0.11545131411317196"
      ]
     },
     "execution_count": 210,
     "metadata": {},
     "output_type": "execute_result"
    }
   ],
   "source": [
    "101859 / 882268"
   ]
  },
  {
   "cell_type": "code",
   "execution_count": 186,
   "metadata": {},
   "outputs": [
    {
     "data": {
      "text/plain": [
       "6040"
      ]
     },
     "execution_count": 186,
     "metadata": {},
     "output_type": "execute_result"
    }
   ],
   "source": [
    "data.n_users"
   ]
  },
  {
   "cell_type": "code",
   "execution_count": null,
   "metadata": {},
   "outputs": [],
   "source": []
  },
  {
   "cell_type": "code",
   "execution_count": 75,
   "metadata": {},
   "outputs": [],
   "source": [
    "train, rest = random_train_test_split(data, test_percentage=0.10, rng=data_rng)\n",
    "test, valid = random_train_test_split(rest, test_percentage=0.5, rng=data_rng)"
   ]
  },
  {
   "cell_type": "code",
   "execution_count": 76,
   "metadata": {},
   "outputs": [
    {
     "data": {
      "text/plain": [
       "<MFEst: MFNet(\n",
       "  (user_embeddings): ScaledEmbedding(6040, 16)\n",
       "  (item_embeddings): ScaledEmbedding(3706, 16)\n",
       "  (item_biases): ZeroEmbedding(3706, 1)\n",
       ")>"
      ]
     },
     "execution_count": 76,
     "metadata": {},
     "output_type": "execute_result"
    }
   ],
   "source": [
    "est = MFEst(**exp_cfg[\"est_params\"])\n",
    "est.load(\"../models/exp_25_MFEst_2021-12-28_18:02:01.model\", data)"
   ]
  },
  {
   "cell_type": "code",
   "execution_count": 77,
   "metadata": {},
   "outputs": [],
   "source": [
    "v, t, h, b = est.get_lda_params()"
   ]
  },
  {
   "cell_type": "markdown",
   "metadata": {
    "tags": []
   },
   "source": [
    "## Cohort overlap of N most likely values of different cohorts"
   ]
  },
  {
   "cell_type": "code",
   "execution_count": 78,
   "metadata": {},
   "outputs": [],
   "source": [
    "def cohort_overlap_top_n(cohorts, n=10):\n",
    "    n_cohorts = cohorts.shape[1]\n",
    "    top_n = [set(c.argsort(descending=True)[:n].numpy()) for c in torch.unbind(cohorts, dim=1)]\n",
    "    return np.array([[len(top_n[i] & top_n[j]) / n for j in np.arange(n_cohorts)] for i in np.arange(n_cohorts)])"
   ]
  },
  {
   "cell_type": "code",
   "execution_count": 79,
   "metadata": {},
   "outputs": [
    {
     "data": {
      "text/plain": [
       "<AxesSubplot:ylabel='Count'>"
      ]
     },
     "execution_count": 79,
     "metadata": {},
     "output_type": "execute_result"
    },
    {
     "data": {
      "image/png": "[encoded data removed]",
      "text/plain": [
       "<Figure size 1152x864 with 1 Axes>"
      ]
     },
     "metadata": {},
     "output_type": "display_data"
    }
   ],
   "source": [
    "overlap = cohort_overlap_top_n(h, n=370)\n",
    "d0_overlap = overlap.copy()\n",
    "np.fill_diagonal(d0_overlap, 0)\n",
    "sns.histplot(d0_overlap.flatten(), bins=25)"
   ]
  },
  {
   "cell_type": "markdown",
   "metadata": {},
   "source": [
    "Rank der top N besser."
   ]
  },
  {
   "cell_type": "code",
   "execution_count": 80,
   "metadata": {},
   "outputs": [
    {
     "data": {
      "text/plain": [
       "<AxesSubplot:>"
      ]
     },
     "execution_count": 80,
     "metadata": {},
     "output_type": "execute_result"
    },
    {
     "data": {
      "image/png": "[encoded data removed]",
      "text/plain": [
       "<Figure size 1152x864 with 2 Axes>"
      ]
     },
     "metadata": {},
     "output_type": "display_data"
    }
   ],
   "source": [
    "sns.heatmap(overlap)"
   ]
  },
  {
   "cell_type": "code",
   "execution_count": 81,
   "metadata": {},
   "outputs": [],
   "source": [
    "def cohort_kendall_tau(cohorts):\n",
    "    n_cohorts = cohorts.shape[1]\n",
    "    return np.array([[kendalltau(c.numpy(), d.numpy(), variant='c').correlation for d in torch.unbind(cohorts, dim=1)] for c in torch.unbind(cohorts, dim=1)])"
   ]
  },
  {
   "cell_type": "code",
   "execution_count": 82,
   "metadata": {},
   "outputs": [],
   "source": [
    "ctaus = cohort_kendall_tau(h)"
   ]
  },
  {
   "cell_type": "code",
   "execution_count": 83,
   "metadata": {},
   "outputs": [
    {
     "data": {
      "text/plain": [
       "<AxesSubplot:ylabel='Count'>"
      ]
     },
     "execution_count": 83,
     "metadata": {},
     "output_type": "execute_result"
    },
    {
     "data": {
      "image/png": "[encoded data removed]",
      "text/plain": [
       "<Figure size 1152x864 with 1 Axes>"
      ]
     },
     "metadata": {},
     "output_type": "display_data"
    }
   ],
   "source": [
    "sns.histplot(ctaus.flatten())"
   ]
  },
  {
   "cell_type": "code",
   "execution_count": 84,
   "metadata": {},
   "outputs": [
    {
     "data": {
      "text/plain": [
       "KendalltauResult(correlation=1.0, pvalue=0.0)"
      ]
     },
     "execution_count": 84,
     "metadata": {},
     "output_type": "execute_result"
    }
   ],
   "source": [
    "kendalltau(torch.unbind(h, dim=1)[0], torch.unbind(h, dim=1)[0])"
   ]
  },
  {
   "cell_type": "code",
   "execution_count": 85,
   "metadata": {},
   "outputs": [
    {
     "data": {
      "text/plain": [
       "KendalltauResult(correlation=-1.0, pvalue=1.0)"
      ]
     },
     "execution_count": 85,
     "metadata": {},
     "output_type": "execute_result"
    }
   ],
   "source": [
    "kendalltau(np.array([1,2]), np.array([2,1]))"
   ]
  },
  {
   "cell_type": "code",
   "execution_count": 86,
   "metadata": {},
   "outputs": [],
   "source": [
    "def cohort_kendalltau_top_n(cohorts, n=10, p=0.05):\n",
    "    n_cohorts = cohorts.shape[1]\n",
    "    top_n = [c.argsort(descending=True)[:n].numpy() for c in torch.unbind(cohorts, dim=1)]\n",
    "    overlap = [[np.array(list(set(top_n[i]) & set(top_n[j]))) for j in np.arange(n_cohorts)] for i in np.arange(n_cohorts)]\n",
    "    corr_pval = np.array([[kendalltau(cohorts[:, i][overlap[i][j]], cohorts[:, j][overlap[i][j]]) for j in np.arange(n_cohorts)] for i in np.arange(n_cohorts)])\n",
    "    corr, pval = corr_pval[..., 0], corr_pval[..., 1] \n",
    "    corr[pval > p] = np.nan\n",
    "    return corr"
   ]
  },
  {
   "cell_type": "code",
   "execution_count": 87,
   "metadata": {},
   "outputs": [
    {
     "data": {
      "text/plain": [
       "array([[ 1.        ,         nan,         nan, ...,         nan,\n",
       "                nan,         nan],\n",
       "       [        nan,  1.        ,         nan, ...,         nan,\n",
       "                nan,         nan],\n",
       "       [        nan,         nan,  1.        , ...,         nan,\n",
       "                nan,         nan],\n",
       "       ...,\n",
       "       [        nan,         nan,         nan, ...,  1.        ,\n",
       "                nan, -0.09798265],\n",
       "       [        nan,         nan,         nan, ...,         nan,\n",
       "         1.        ,         nan],\n",
       "       [        nan,         nan,         nan, ..., -0.09798265,\n",
       "                nan,  1.        ]])"
      ]
     },
     "execution_count": 87,
     "metadata": {},
     "output_type": "execute_result"
    }
   ],
   "source": [
    "cohort_kendalltau_top_n(h, n=1000)"
   ]
  },
  {
   "cell_type": "code",
   "execution_count": 88,
   "metadata": {},
   "outputs": [
    {
     "data": {
      "text/plain": [
       "<AxesSubplot:>"
      ]
     },
     "execution_count": 88,
     "metadata": {},
     "output_type": "execute_result"
    },
    {
     "data": {
      "image/png": "[encoded data removed]",
      "text/plain": [
       "<Figure size 1152x864 with 2 Axes>"
      ]
     },
     "metadata": {},
     "output_type": "display_data"
    }
   ],
   "source": [
    "sns.heatmap(cohort_kendalltau_top_n(h, n=100, p=0.05))"
   ]
  },
  {
   "cell_type": "code",
   "execution_count": 89,
   "metadata": {},
   "outputs": [
    {
     "data": {
      "text/plain": [
       "KendalltauResult(correlation=1.0, pvalue=0.08333333333333333)"
      ]
     },
     "execution_count": 89,
     "metadata": {},
     "output_type": "execute_result"
    }
   ],
   "source": [
    "N = 4\n",
    "kendalltau(np.arange(N), np.arange(N))"
   ]
  },
  {
   "cell_type": "code",
   "execution_count": 90,
   "metadata": {},
   "outputs": [
    {
     "data": {
      "text/plain": [
       "<AxesSubplot:ylabel='Count'>"
      ]
     },
     "execution_count": 90,
     "metadata": {},
     "output_type": "execute_result"
    },
    {
     "data": {
      "image/png": "[encoded data removed]",
      "text/plain": [
       "<Figure size 1152x864 with 1 Axes>"
      ]
     },
     "metadata": {},
     "output_type": "display_data"
    }
   ],
   "source": [
    "sns.histplot(cohort_kendalltau_top_n(h, n=100, p=0.01).flatten(), bins=100)"
   ]
  },
  {
   "cell_type": "markdown",
   "metadata": {
    "tags": []
   },
   "source": [
    "## General overlap of the cohorts"
   ]
  },
  {
   "cell_type": "code",
   "execution_count": 91,
   "metadata": {},
   "outputs": [],
   "source": [
    "N = h.shape[1]\n",
    "res = [dist_overlap(h[:,i], h[:,j])  for i in range(N) for j in range(N) if j > i]"
   ]
  },
  {
   "cell_type": "code",
   "execution_count": 92,
   "metadata": {},
   "outputs": [
    {
     "data": {
      "text/plain": [
       "(0.7067843675613403, 0.8785260915756226)"
      ]
     },
     "execution_count": 92,
     "metadata": {},
     "output_type": "execute_result"
    }
   ],
   "source": [
    "min(res), max(res)"
   ]
  },
  {
   "cell_type": "markdown",
   "metadata": {},
   "source": [
    "## N most importants items of a cohort"
   ]
  },
  {
   "cell_type": "code",
   "execution_count": 93,
   "metadata": {
    "tags": []
   },
   "outputs": [],
   "source": [
    "def n_most_important_items_per_cohort(cohorts, metadata, n=10):\n",
    "    c_items = [c.argsort(descending=True)[:n].numpy() for c in torch.unbind(cohorts, dim=1)]\n",
    "    return [list(map(lambda x: metadata.item_info(x)['name'], items)) for items in c_items]"
   ]
  },
  {
   "cell_type": "code",
   "execution_count": 94,
   "metadata": {},
   "outputs": [],
   "source": [
    "#n_most_important_items_per_cohort(h, md)"
   ]
  },
  {
   "cell_type": "markdown",
   "metadata": {},
   "source": [
    "## Popularity Comparison"
   ]
  },
  {
   "cell_type": "code",
   "execution_count": 95,
   "metadata": {},
   "outputs": [],
   "source": [
    "df = data.to_pandas()"
   ]
  },
  {
   "cell_type": "code",
   "execution_count": 96,
   "metadata": {},
   "outputs": [],
   "source": [
    "emp_pops = np.zeros(data.n_items, dtype=int)"
   ]
  },
  {
   "cell_type": "code",
   "execution_count": 97,
   "metadata": {},
   "outputs": [],
   "source": [
    "val_counts = df['item_id'].value_counts()"
   ]
  },
  {
   "cell_type": "code",
   "execution_count": 98,
   "metadata": {},
   "outputs": [],
   "source": [
    "emp_pops[val_counts.index] = val_counts.to_numpy()"
   ]
  },
  {
   "cell_type": "code",
   "execution_count": 99,
   "metadata": {},
   "outputs": [
    {
     "data": {
      "text/plain": [
       "KendalltauResult(correlation=0.6504477054053043, pvalue=0.0)"
      ]
     },
     "execution_count": 99,
     "metadata": {},
     "output_type": "execute_result"
    }
   ],
   "source": [
    "kendalltau(emp_pops, b)"
   ]
  },
  {
   "cell_type": "markdown",
   "metadata": {},
   "source": [
    "Quite strong according to http://polisci.usca.edu/apls301/Text/Chapter%2012.%20Significance%20and%20Measures%20of%20Association.htm"
   ]
  },
  {
   "cell_type": "markdown",
   "metadata": {
    "tags": []
   },
   "source": [
    "## Conformity to Popularity"
   ]
  },
  {
   "cell_type": "code",
   "execution_count": 100,
   "metadata": {},
   "outputs": [],
   "source": [
    "def kendalltau_pop_conf(pop, confs, data, kind=kendalltau):\n",
    "    df = data.to_pandas()\n",
    "    user_interaction_pops = df.groupby('user_id').apply(lambda grp: np.median(pop[grp['item_id'].values]))\n",
    "    return kind(user_interaction_pops.values, confs[user_interaction_pops.index].flatten())"
   ]
  },
  {
   "cell_type": "code",
   "execution_count": 101,
   "metadata": {},
   "outputs": [
    {
     "data": {
      "text/plain": [
       "(1.0, 0.0)"
      ]
     },
     "execution_count": 101,
     "metadata": {},
     "output_type": "execute_result"
    }
   ],
   "source": [
    "pearsonr(np.arange(10), np.arange(10))"
   ]
  },
  {
   "cell_type": "code",
   "execution_count": 102,
   "metadata": {},
   "outputs": [
    {
     "data": {
      "text/plain": [
       "KendalltauResult(correlation=0.22287534063143916, pvalue=1.5350021263539814e-148)"
      ]
     },
     "execution_count": 102,
     "metadata": {},
     "output_type": "execute_result"
    }
   ],
   "source": [
    "kendalltau_pop_conf(emp_pops, (1/t).numpy(), train)"
   ]
  },
  {
   "cell_type": "code",
   "execution_count": 103,
   "metadata": {},
   "outputs": [
    {
     "data": {
      "text/plain": [
       "KendalltauResult(correlation=0.37821606157205484, pvalue=0.0)"
      ]
     },
     "execution_count": 103,
     "metadata": {},
     "output_type": "execute_result"
    }
   ],
   "source": [
    "kendalltau_pop_conf(b, 1/t, train)"
   ]
  },
  {
   "cell_type": "markdown",
   "metadata": {},
   "source": [
    "do this on test set!"
   ]
  },
  {
   "cell_type": "markdown",
   "metadata": {},
   "source": [
    "## Belonging to different cohorts"
   ]
  },
  {
   "cell_type": "code",
   "execution_count": 104,
   "metadata": {},
   "outputs": [],
   "source": [
    "df = train.to_pandas()"
   ]
  },
  {
   "cell_type": "code",
   "execution_count": 105,
   "metadata": {},
   "outputs": [],
   "source": [
    "def get_cohorts(cohorts, df):\n",
    "    n_cohorts = cohorts.shape[1]\n",
    "    items = df['item_id'].to_numpy()\n",
    "    cohorts = np.array([cohorts[i].argmax() for i in items])\n",
    "    counts = np.zeros(n_cohorts)\n",
    "    nums, n_counts = np.unique(cohorts, return_counts=True)\n",
    "    counts[nums] = n_counts / n_counts.sum()\n",
    "    return counts\n",
    "    \n",
    "res = df.groupby('user_id', as_index=False).apply(partial(get_cohorts, h))"
   ]
  },
  {
   "cell_type": "code",
   "execution_count": 106,
   "metadata": {},
   "outputs": [
    {
     "data": {
      "text/plain": [
       "<seaborn.axisgrid.FacetGrid at 0x7ff64321c220>"
      ]
     },
     "execution_count": 106,
     "metadata": {},
     "output_type": "execute_result"
    },
    {
     "data": {
      "image/png": "[encoded data removed]",
      "text/plain": [
       "<Figure size 360x360 with 1 Axes>"
      ]
     },
     "metadata": {},
     "output_type": "display_data"
    }
   ],
   "source": [
    "sns.displot((1/t).squeeze())"
   ]
  },
  {
   "cell_type": "code",
   "execution_count": 107,
   "metadata": {},
   "outputs": [],
   "source": [
    "threshold = (1/t).squeeze().median()\n",
    "mask = (1/t < threshold).squeeze().numpy()"
   ]
  },
  {
   "cell_type": "code",
   "execution_count": 108,
   "metadata": {},
   "outputs": [],
   "source": [
    "dist_ovs = res.to_frame().apply(lambda x: dist_overlap(torch.tensor(x[0]), v[x.name]), axis=1)"
   ]
  },
  {
   "cell_type": "code",
   "execution_count": 109,
   "metadata": {},
   "outputs": [
    {
     "data": {
      "text/plain": [
       "0.6071922800116386"
      ]
     },
     "execution_count": 109,
     "metadata": {},
     "output_type": "execute_result"
    }
   ],
   "source": [
    "dist_ovs.loc[~mask].mean()"
   ]
  },
  {
   "cell_type": "code",
   "execution_count": 110,
   "metadata": {},
   "outputs": [
    {
     "data": {
      "text/plain": [
       "0.06619406114428626"
      ]
     },
     "execution_count": 110,
     "metadata": {},
     "output_type": "execute_result"
    }
   ],
   "source": [
    "dist_ovs.loc[mask].std()"
   ]
  },
  {
   "cell_type": "code",
   "execution_count": 111,
   "metadata": {},
   "outputs": [
    {
     "data": {
      "text/plain": [
       "1       0.587951\n",
       "2       0.621141\n",
       "3       0.446030\n",
       "7       0.631141\n",
       "11      0.533376\n",
       "          ...   \n",
       "6030    0.517559\n",
       "6031    0.780629\n",
       "6032    0.594276\n",
       "6033    0.513614\n",
       "6037    0.726419\n",
       "Length: 3021, dtype: float64"
      ]
     },
     "execution_count": 111,
     "metadata": {},
     "output_type": "execute_result"
    }
   ],
   "source": [
    "dist_ovs.loc[~mask]"
   ]
  },
  {
   "cell_type": "code",
   "execution_count": 112,
   "metadata": {},
   "outputs": [],
   "source": [
    "dist_df = pd.DataFrame(dict(overlap=dist_ovs.to_numpy(), conformity=(1/t).numpy().flatten(), low=mask))"
   ]
  },
  {
   "cell_type": "code",
   "execution_count": 113,
   "metadata": {},
   "outputs": [],
   "source": [
    "#dist_df = dist_df.loc[(dist_df['conformity'] < 0.05) | (dist_df['conformity'] > 0.08)]"
   ]
  },
  {
   "cell_type": "code",
   "execution_count": 114,
   "metadata": {},
   "outputs": [
    {
     "data": {
      "text/plain": [
       "<seaborn.axisgrid.FacetGrid at 0x7ff5b1380ee0>"
      ]
     },
     "execution_count": 114,
     "metadata": {},
     "output_type": "execute_result"
    },
    {
     "data": {
      "image/png": "[encoded data removed]",
      "text/plain": [
       "<Figure size 426.35x360 with 1 Axes>"
      ]
     },
     "metadata": {},
     "output_type": "display_data"
    }
   ],
   "source": [
    "sns.displot(dist_df, x='overlap', hue='low')"
   ]
  },
  {
   "cell_type": "markdown",
   "metadata": {
    "tags": []
   },
   "source": [
    "## User Finger Printing and comparison"
   ]
  },
  {
   "cell_type": "code",
   "execution_count": 115,
   "metadata": {},
   "outputs": [],
   "source": [
    "def tee(it):\n",
    "    for e in it:\n",
    "        print(e)\n",
    "        yield e"
   ]
  },
  {
   "cell_type": "code",
   "execution_count": 116,
   "metadata": {},
   "outputs": [],
   "source": [
    "def find_twins(users, n=None):\n",
    "    twins = []\n",
    "    for user_id in np.arange(users.shape[0])[:n]:\n",
    "        neighbors = apply_along_dim(users, partial(dist_overlap, v[user_id]), dim=0)\n",
    "        neighbors[user_id] = 0.0 # eliminate itself\n",
    "        twins.append(neighbors.argmax().item())                            \n",
    "                                    \n",
    "    return np.array(twins)"
   ]
  },
  {
   "cell_type": "code",
   "execution_count": 117,
   "metadata": {},
   "outputs": [],
   "source": [
    "def plot_cat(dist):\n",
    "    sns.barplot(x=np.arange(dist.shape[0]), y=dist.numpy())"
   ]
  },
  {
   "cell_type": "code",
   "execution_count": 123,
   "metadata": {},
   "outputs": [],
   "source": [
    "good_twins = find_twins(v)"
   ]
  },
  {
   "cell_type": "code",
   "execution_count": 124,
   "metadata": {},
   "outputs": [],
   "source": [
    "bad_twins = np.random.randint(v.shape[0], size=v.shape[0])"
   ]
  },
  {
   "cell_type": "code",
   "execution_count": 125,
   "metadata": {},
   "outputs": [],
   "source": [
    "df = data.to_pandas().set_index('user_id')"
   ]
  },
  {
   "cell_type": "code",
   "execution_count": 174,
   "metadata": {},
   "outputs": [],
   "source": [
    "def get_good_bad_jacs(good, bad, data):\n",
    "    # do this here for random users\n",
    "    assert good.shape == bad.shape\n",
    "    \n",
    "    df = data.to_pandas().set_index('user_id')\n",
    "    good_jac = []\n",
    "    bad_jac = []\n",
    "    for user_id in range(good.shape[0]):\n",
    "        print(user_id)\n",
    "        orig_items = set(df['item_id'].loc[[user_id]].values)\n",
    "        good_items = set(df['item_id'].loc[[good[user_id]]].values)\n",
    "        print(df['item_id'].loc[bad[user_id]])\n",
    "        bad_items = set(df['item_id'].loc[[bad[user_id]]].values)\n",
    "        good_jac.append(len(orig_items & good_items) / len(orig_items | good_items))\n",
    "        bad_jac.append(len(orig_items & bad_items) / len(orig_items | bad_items))\n",
    "    \n",
    "    return np.array(good_jac), np.array(bad_jac)"
   ]
  },
  {
   "cell_type": "code",
   "execution_count": 180,
   "metadata": {},
   "outputs": [],
   "source": [
    "df = test.to_pandas().set_index('user_id')"
   ]
  },
  {
   "cell_type": "code",
   "execution_count": 181,
   "metadata": {},
   "outputs": [
    {
     "data": {
      "text/plain": [
       "2607"
      ]
     },
     "execution_count": 181,
     "metadata": {},
     "output_type": "execute_result"
    }
   ],
   "source": [
    "bad_twins[2]"
   ]
  },
  {
   "cell_type": "markdown",
   "metadata": {},
   "source": [
    "paired t-test"
   ]
  },
  {
   "cell_type": "code",
   "execution_count": 189,
   "metadata": {},
   "outputs": [
    {
     "data": {
      "text/plain": [
       "Ttest_relResult(statistic=34.15496397334395, pvalue=5.029080968936296e-170)"
      ]
     },
     "execution_count": 189,
     "metadata": {},
     "output_type": "execute_result"
    }
   ],
   "source": [
    "ttest_rel(good_jacs[:1000], bad_jacs[:1000])"
   ]
  },
  {
   "cell_type": "code",
   "execution_count": 190,
   "metadata": {},
   "outputs": [
    {
     "name": "stderr",
     "output_type": "stream",
     "text": [
      "/Users/fwilhelm/.mambaforge/envs/lda4rec-ng/lib/python3.8/site-packages/pingouin/bayesian.py:146: RuntimeWarning: divide by zero encountered in double_scalars\n",
      "  bf10 = 1 / ((1 + t**2 / df)**(-(df + 1) / 2) / integr)\n"
     ]
    },
    {
     "data": {
      "text/html": [
       "<div>\n",
       "<style scoped>\n",
       "    .dataframe tbody tr th:only-of-type {\n",
       "        vertical-align: middle;\n",
       "    }\n",
       "\n",
       "    .dataframe tbody tr th {\n",
       "        vertical-align: top;\n",
       "    }\n",
       "\n",
       "    .dataframe thead th {\n",
       "        text-align: right;\n",
       "    }\n",
       "</style>\n",
       "<table border=\"1\" class=\"dataframe\">\n",
       "  <thead>\n",
       "    <tr style=\"text-align: right;\">\n",
       "      <th></th>\n",
       "      <th>T</th>\n",
       "      <th>dof</th>\n",
       "      <th>alternative</th>\n",
       "      <th>p-val</th>\n",
       "      <th>CI95%</th>\n",
       "      <th>cohen-d</th>\n",
       "      <th>BF10</th>\n",
       "      <th>power</th>\n",
       "    </tr>\n",
       "  </thead>\n",
       "  <tbody>\n",
       "    <tr>\n",
       "      <th>T-test</th>\n",
       "      <td>83.044131</td>\n",
       "      <td>6039</td>\n",
       "      <td>two-sided</td>\n",
       "      <td>0.0</td>\n",
       "      <td>[0.08, 0.09]</td>\n",
       "      <td>1.445248</td>\n",
       "      <td>inf</td>\n",
       "      <td>1.0</td>\n",
       "    </tr>\n",
       "  </tbody>\n",
       "</table>\n",
       "</div>"
      ],
      "text/plain": [
       "                T   dof alternative  p-val         CI95%   cohen-d BF10  power\n",
       "T-test  83.044131  6039   two-sided    0.0  [0.08, 0.09]  1.445248  inf    1.0"
      ]
     },
     "execution_count": 190,
     "metadata": {},
     "output_type": "execute_result"
    }
   ],
   "source": [
    "pg.ttest(good_jacs, bad_jacs, paired=True)"
   ]
  },
  {
   "cell_type": "code",
   "execution_count": null,
   "metadata": {},
   "outputs": [],
   "source": []
  }
 ],
 "metadata": {
  "kernelspec": {
   "display_name": "Python 3 (ipykernel)",
   "language": "python",
   "name": "python3"
  },
  "language_info": {
   "codemirror_mode": {
    "name": "ipython",
    "version": 3
   },
   "file_extension": ".py",
   "mimetype": "text/x-python",
   "name": "python",
   "nbconvert_exporter": "python",
   "pygments_lexer": "ipython3",
   "version": "3.8.10"
  },
  "pycharm": {
   "stem_cell": {
    "cell_type": "raw",
    "metadata": {
     "collapsed": false
    },
    "source": []
   }
  }
 },
 "nbformat": 4,
 "nbformat_minor": 4
}
