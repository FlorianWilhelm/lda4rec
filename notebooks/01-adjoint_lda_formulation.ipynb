{
 "cells": [
  {
   "cell_type": "code",
   "execution_count": 1,
   "metadata": {},
   "outputs": [],
   "source": [
    "import functools\n",
    "import itertools\n",
    "import logging\n",
    "import math\n",
    "import os\n",
    "import pickle\n",
    "import sys\n",
    "from pathlib import Path\n",
    "\n",
    "import matplotlib as mpl\n",
    "import matplotlib.pyplot as plt\n",
    "import numpy as np\n",
    "import scipy as sp\n",
    "import seaborn as sns\n",
    "import yaml\n",
    "\n",
    "%load_ext autoreload\n",
    "%autoreload 2\n",
    "\n",
    "%matplotlib inline\n",
    "%config InlineBackend.figure_format = 'retina'\n",
    "\n",
    "sns.set_context(\"poster\")\n",
    "sns.set(rc={\"figure.figsize\": (16, 12.0)})\n",
    "sns.set_style(\"whitegrid\")\n",
    "\n",
    "import numpy as np\n",
    "import pandas as pd\n",
    "import torch.nn.functional as F\n",
    "\n",
    "pd.set_option(\"display.max_rows\", 120)\n",
    "pd.set_option(\"display.max_columns\", 120)\n",
    "\n",
    "logging.basicConfig(level=logging.INFO, stream=sys.stdout)"
   ]
  },
  {
   "cell_type": "code",
   "execution_count": 2,
   "metadata": {},
   "outputs": [],
   "source": [
    "from lda4rec.datasets import Interactions, DataLoader, random_train_test_split\n",
    "from lda4rec.evaluations import mrr_score, precision_recall_score, summary\n",
    "from lda4rec.estimators import MFEst, PopEst, LDA4RecEst, SNMFEst\n",
    "from lda4rec.utils import process_ids, cmp_ranks"
   ]
  },
  {
   "cell_type": "code",
   "execution_count": 3,
   "metadata": {},
   "outputs": [],
   "source": [
    "import pyro\n",
    "import pyro.distributions as dist\n",
    "import pyro.optim as optim\n",
    "import torch\n",
    "from pyro.distributions import constraints\n",
    "from pyro.infer import SVI, Predictive, Trace_ELBO, TraceEnum_ELBO, config_enumerate"
   ]
  },
  {
   "cell_type": "code",
   "execution_count": 4,
   "metadata": {},
   "outputs": [
    {
     "name": "stdout",
     "output_type": "stream",
     "text": [
      "WARNING:neptune.internal.hardware.gpu.gpu_monitor:Info (NVML): NVML Shared Library Not Found. GPU usage metrics may not be reported. For more information, see https://docs-legacy.neptune.ai/logging-and-managing-experiment-results/logging-experiment-data.html#hardware-consumption \n",
      "offline/42a2ed19-709c-46f6-af2b-a667faad3100\n"
     ]
    }
   ],
   "source": [
    "import neptune.new as neptune\n",
    "neptune.init(mode=\"offline\");"
   ]
  },
  {
   "cell_type": "markdown",
   "metadata": {},
   "source": [
    "## Experimenting with Matrix Factorization as aLDA formulation"
   ]
  },
  {
   "cell_type": "code",
   "execution_count": 5,
   "metadata": {},
   "outputs": [],
   "source": [
    "loader = DataLoader()\n",
    "data = loader.load_movielens(\"100k\")"
   ]
  },
  {
   "cell_type": "code",
   "execution_count": 6,
   "metadata": {},
   "outputs": [],
   "source": [
    "data.max_user_interactions_(200)\n",
    "data.implicit_(0.)\n",
    "train, test = random_train_test_split(data)"
   ]
  },
  {
   "cell_type": "code",
   "execution_count": 7,
   "metadata": {},
   "outputs": [
    {
     "name": "stdout",
     "output_type": "stream",
     "text": [
      "INFO:lda4rec.estimators:Epoch     0: loss 0.3823770273376155\n",
      "INFO:lda4rec.estimators:Epoch     1: loss 0.15964230655415637\n",
      "INFO:lda4rec.estimators:Epoch     2: loss 0.11581193530881727\n",
      "INFO:lda4rec.estimators:Epoch     3: loss 0.09692244044429547\n",
      "INFO:lda4rec.estimators:Epoch     4: loss 0.08652593110864226\n",
      "INFO:lda4rec.estimators:Epoch     5: loss 0.07624727755382255\n",
      "INFO:lda4rec.estimators:Epoch     6: loss 0.07235154715442174\n",
      "INFO:lda4rec.estimators:Epoch     7: loss 0.06692514476945272\n",
      "INFO:lda4rec.estimators:Epoch     8: loss 0.06370584648102522\n",
      "INFO:lda4rec.estimators:Epoch     9: loss 0.06167086124722217\n",
      "INFO:lda4rec.estimators:Epoch    10: loss 0.0598684781885429\n",
      "INFO:lda4rec.estimators:Epoch    11: loss 0.059196134699458204\n",
      "INFO:lda4rec.estimators:Epoch    12: loss 0.0577837115631917\n",
      "INFO:lda4rec.estimators:Epoch    13: loss 0.05519735169647312\n",
      "INFO:lda4rec.estimators:Epoch    14: loss 0.05447612520105936\n",
      "INFO:lda4rec.estimators:Epoch    15: loss 0.05591662263346685\n",
      "INFO:lda4rec.estimators:Epoch    16: loss 0.05384855570296782\n",
      "INFO:lda4rec.estimators:Epoch    17: loss 0.05320778001049483\n",
      "INFO:lda4rec.estimators:Epoch    18: loss 0.05241594687104225\n",
      "INFO:lda4rec.estimators:Epoch    19: loss 0.051906296968258714\n"
     ]
    },
    {
     "data": {
      "text/plain": [
       "0.051906296968258714"
      ]
     },
     "execution_count": 7,
     "metadata": {},
     "output_type": "execute_result"
    }
   ],
   "source": [
    "mf_est = MFEst(embedding_dim=8, n_iter=20)\n",
    "mf_est.fit(train)"
   ]
  },
  {
   "cell_type": "markdown",
   "metadata": {},
   "source": [
    "### Overall summaries showing equivalence of MF and adjoint LDA formulation"
   ]
  },
  {
   "cell_type": "code",
   "execution_count": 8,
   "metadata": {},
   "outputs": [
    {
     "data": {
      "text/plain": [
       "array([14.78094   ,  6.281404  , 17.850199  , ..., -3.3343346 ,\n",
       "        0.38743448, -6.0783505 ], dtype=float32)"
      ]
     },
     "execution_count": 8,
     "metadata": {},
     "output_type": "execute_result"
    }
   ],
   "source": [
    "user_id = 42\n",
    "mf_est.lda_trafo = False\n",
    "mf_est.predict(user_id)"
   ]
  },
  {
   "cell_type": "code",
   "execution_count": 9,
   "metadata": {},
   "outputs": [
    {
     "data": {
      "text/html": [
       "<div>\n",
       "<style scoped>\n",
       "    .dataframe tbody tr th:only-of-type {\n",
       "        vertical-align: middle;\n",
       "    }\n",
       "\n",
       "    .dataframe tbody tr th {\n",
       "        vertical-align: top;\n",
       "    }\n",
       "\n",
       "    .dataframe thead th {\n",
       "        text-align: right;\n",
       "    }\n",
       "</style>\n",
       "<table border=\"1\" class=\"dataframe\">\n",
       "  <thead>\n",
       "    <tr style=\"text-align: right;\">\n",
       "      <th></th>\n",
       "      <th>train</th>\n",
       "      <th>test</th>\n",
       "    </tr>\n",
       "    <tr>\n",
       "      <th>metric</th>\n",
       "      <th></th>\n",
       "      <th></th>\n",
       "    </tr>\n",
       "  </thead>\n",
       "  <tbody>\n",
       "    <tr>\n",
       "      <th>prec</th>\n",
       "      <td>0.309672</td>\n",
       "      <td>0.112479</td>\n",
       "    </tr>\n",
       "    <tr>\n",
       "      <th>recall</th>\n",
       "      <td>0.059727</td>\n",
       "      <td>0.080443</td>\n",
       "    </tr>\n",
       "    <tr>\n",
       "      <th>mrr</th>\n",
       "      <td>0.030368</td>\n",
       "      <td>0.037841</td>\n",
       "    </tr>\n",
       "  </tbody>\n",
       "</table>\n",
       "</div>"
      ],
      "text/plain": [
       "           train      test\n",
       "metric                    \n",
       "prec    0.309672  0.112479\n",
       "recall  0.059727  0.080443\n",
       "mrr     0.030368  0.037841"
      ]
     },
     "execution_count": 9,
     "metadata": {},
     "output_type": "execute_result"
    }
   ],
   "source": [
    "summary(mf_est, train=train, test=test)"
   ]
  },
  {
   "cell_type": "code",
   "execution_count": 10,
   "metadata": {},
   "outputs": [
    {
     "data": {
      "text/plain": [
       "array([1.44475067e-04, 1.22261292e-04, 1.52496679e-04, ...,\n",
       "       9.71303089e-05, 1.06857246e-04, 8.99587394e-05], dtype=float32)"
      ]
     },
     "execution_count": 10,
     "metadata": {},
     "output_type": "execute_result"
    }
   ],
   "source": [
    "mf_est.lda_trafo = True\n",
    "mf_est.predict(user_id) # the numbers differ as expected due to the transformation"
   ]
  },
  {
   "cell_type": "code",
   "execution_count": 11,
   "metadata": {},
   "outputs": [
    {
     "data": {
      "text/html": [
       "<div>\n",
       "<style scoped>\n",
       "    .dataframe tbody tr th:only-of-type {\n",
       "        vertical-align: middle;\n",
       "    }\n",
       "\n",
       "    .dataframe tbody tr th {\n",
       "        vertical-align: top;\n",
       "    }\n",
       "\n",
       "    .dataframe thead th {\n",
       "        text-align: right;\n",
       "    }\n",
       "</style>\n",
       "<table border=\"1\" class=\"dataframe\">\n",
       "  <thead>\n",
       "    <tr style=\"text-align: right;\">\n",
       "      <th></th>\n",
       "      <th>train</th>\n",
       "      <th>test</th>\n",
       "    </tr>\n",
       "    <tr>\n",
       "      <th>metric</th>\n",
       "      <th></th>\n",
       "      <th></th>\n",
       "    </tr>\n",
       "  </thead>\n",
       "  <tbody>\n",
       "    <tr>\n",
       "      <th>prec</th>\n",
       "      <td>0.309672</td>\n",
       "      <td>0.112479</td>\n",
       "    </tr>\n",
       "    <tr>\n",
       "      <th>recall</th>\n",
       "      <td>0.059727</td>\n",
       "      <td>0.080443</td>\n",
       "    </tr>\n",
       "    <tr>\n",
       "      <th>mrr</th>\n",
       "      <td>0.030368</td>\n",
       "      <td>0.037841</td>\n",
       "    </tr>\n",
       "  </tbody>\n",
       "</table>\n",
       "</div>"
      ],
      "text/plain": [
       "           train      test\n",
       "metric                    \n",
       "prec    0.309672  0.112479\n",
       "recall  0.059727  0.080443\n",
       "mrr     0.030368  0.037841"
      ]
     },
     "execution_count": 11,
     "metadata": {},
     "output_type": "execute_result"
    }
   ],
   "source": [
    "summary(mf_est, train=train, test=test)"
   ]
  },
  {
   "cell_type": "markdown",
   "metadata": {},
   "source": [
    "### Compare equivalence of the ranking from MF and adjoint LDA formulation for a single user"
   ]
  },
  {
   "cell_type": "code",
   "execution_count": 12,
   "metadata": {},
   "outputs": [],
   "source": [
    "user_id = 140\n",
    "orig_scores = mf_est.predict(np.array([user_id], dtype=np.int))\n",
    "item_probs = mf_est.get_item_probs(torch.tensor([user_id]))"
   ]
  },
  {
   "cell_type": "code",
   "execution_count": 13,
   "metadata": {},
   "outputs": [
    {
     "data": {
      "text/plain": [
       "True"
      ]
     },
     "execution_count": 13,
     "metadata": {},
     "output_type": "execute_result"
    }
   ],
   "source": [
    "cmp_ranks(orig_scores, item_probs, eps=1e-5)"
   ]
  },
  {
   "cell_type": "code",
   "execution_count": null,
   "metadata": {},
   "outputs": [],
   "source": []
  }
 ],
 "metadata": {
  "kernelspec": {
   "display_name": "Python 3 (ipykernel)",
   "language": "python",
   "name": "python3"
  },
  "language_info": {
   "codemirror_mode": {
    "name": "ipython",
    "version": 3
   },
   "file_extension": ".py",
   "mimetype": "text/x-python",
   "name": "python",
   "nbconvert_exporter": "python",
   "pygments_lexer": "ipython3",
   "version": "3.8.10"
  },
  "pycharm": {
   "stem_cell": {
    "cell_type": "raw",
    "metadata": {
     "collapsed": false
    },
    "source": []
   }
  }
 },
 "nbformat": 4,
 "nbformat_minor": 4
}
