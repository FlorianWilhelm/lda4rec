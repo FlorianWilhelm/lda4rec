{
 "cells": [
  {
   "cell_type": "code",
   "execution_count": 1,
   "metadata": {},
   "outputs": [],
   "source": [
    "import functools\n",
    "from functools import partial\n",
    "import itertools\n",
    "import logging\n",
    "import math\n",
    "import os\n",
    "import pickle\n",
    "import sys\n",
    "from pathlib import Path\n",
    "\n",
    "import matplotlib as mpl\n",
    "import matplotlib.pyplot as plt\n",
    "import numpy as np\n",
    "import scipy as sp\n",
    "import pingouin as pg\n",
    "import seaborn as sns\n",
    "import yaml\n",
    "\n",
    "%load_ext autoreload\n",
    "%autoreload 2\n",
    "\n",
    "%matplotlib inline\n",
    "\n",
    "sns.set_context(\"poster\")\n",
    "sns.set(rc={\"figure.figsize\": (16, 12.0)})\n",
    "sns.set_style(\"whitegrid\")\n",
    "\n",
    "import numpy as np\n",
    "import pandas as pd\n",
    "from scipy.stats import kendalltau, rankdata, spearmanr, pearsonr, ttest_rel\n",
    "import torch.nn.functional as F\n",
    "\n",
    "pd.set_option(\"display.max_rows\", 120)\n",
    "pd.set_option(\"display.max_columns\", 120)\n",
    "\n",
    "logging.basicConfig(level=logging.INFO, stream=sys.stdout)"
   ]
  },
  {
   "cell_type": "code",
   "execution_count": 2,
   "metadata": {},
   "outputs": [],
   "source": [
    "from lda4rec.datasets import Interactions, DataLoader, random_train_test_split, MOVIELENS_1M,MetaData, get_dataset, items_per_user_train_test_split\n",
    "import lda4rec.evaluations as lda_eval\n",
    "from lda4rec.estimators import MFEst, PopEst, LDA4RecEst, SNMFEst\n",
    "from lda4rec.utils import process_ids, cmp_ranks, Config, split_along_dim_apply, plot_cat\n",
    "from lda4rec import lda"
   ]
  },
  {
   "cell_type": "code",
   "execution_count": 3,
   "metadata": {},
   "outputs": [],
   "source": [
    "import pyro\n",
    "import pyro.distributions as dist\n",
    "import pyro.optim as optim\n",
    "import torch\n",
    "from pyro.distributions import constraints\n",
    "from pyro.infer import SVI, Predictive, Trace_ELBO, TraceEnum_ELBO, config_enumerate"
   ]
  },
  {
   "cell_type": "code",
   "execution_count": 4,
   "metadata": {},
   "outputs": [
    {
     "name": "stdout",
     "output_type": "stream",
     "text": [
      "WARNING:neptune.internal.hardware.gpu.gpu_monitor:Info (NVML): NVML Shared Library Not Found. GPU usage metrics may not be reported. For more information, see https://docs-legacy.neptune.ai/logging-and-managing-experiment-results/logging-experiment-data.html#hardware-consumption \n",
      "offline/eb853f9b-39fc-42db-b963-58e89cfb0691\n",
      "Remember to stop your run once you’ve finished logging your metadata (https://docs.neptune.ai/api-reference/run#stop). It will be stopped automatically only when the notebook kernel/interactive console is terminated.\n"
     ]
    },
    {
     "data": {
      "text/plain": [
       "<neptune.new.run.Run at 0x7fe85833b940>"
      ]
     },
     "execution_count": 4,
     "metadata": {},
     "output_type": "execute_result"
    }
   ],
   "source": [
    "import neptune.new as neptune\n",
    "# init dummy neptune to avoid problems with logging\n",
    "neptune.init(mode='offline') "
   ]
  },
  {
   "cell_type": "code",
   "execution_count": 5,
   "metadata": {},
   "outputs": [],
   "source": [
    "from icecream import ic, install\n",
    "\n",
    "install()\n",
    "# configure icecream\n",
    "def ic_str(obj):\n",
    "    if hasattr(obj, \"shape\"):\n",
    "        return f\"{obj} \"  #\n",
    "    else:\n",
    "        return str(obj)"
   ]
  },
  {
   "cell_type": "code",
   "execution_count": 6,
   "metadata": {},
   "outputs": [],
   "source": [
    "ic.configureOutput(argToStringFunction=ic_str)"
   ]
  },
  {
   "cell_type": "markdown",
   "metadata": {
    "tags": []
   },
   "source": [
    "## Evaluation of Interpretation"
   ]
  },
  {
   "cell_type": "markdown",
   "metadata": {},
   "source": [
    "### Calculating the Statistics"
   ]
  },
  {
   "cell_type": "code",
   "execution_count": 32,
   "metadata": {},
   "outputs": [],
   "source": [
    "# latent dimensions used in the model\n",
    "ML_DIM = 64\n",
    "GB_DIM = 128\n",
    "AM_DIM = 128 # Check this!!!"
   ]
  },
  {
   "cell_type": "code",
   "execution_count": 8,
   "metadata": {},
   "outputs": [
    {
     "name": "stderr",
     "output_type": "stream",
     "text": [
      "/Users/fwilhelm/.mambaforge/envs/lda4rec-ng/lib/python3.8/site-packages/pingouin/bayesian.py:146: RuntimeWarning: divide by zero encountered in double_scalars\n",
      "  bf10 = 1 / ((1 + t**2 / df)**(-(df + 1) / 2) / integr)\n",
      "/Users/fwilhelm/.mambaforge/envs/lda4rec-ng/lib/python3.8/site-packages/pingouin/bayesian.py:146: RuntimeWarning: divide by zero encountered in double_scalars\n",
      "  bf10 = 1 / ((1 + t**2 / df)**(-(df + 1) / 2) / integr)\n",
      "/Users/fwilhelm/.mambaforge/envs/lda4rec-ng/lib/python3.8/site-packages/pingouin/bayesian.py:146: RuntimeWarning: divide by zero encountered in double_scalars\n",
      "  bf10 = 1 / ((1 + t**2 / df)**(-(df + 1) / 2) / integr)\n",
      "/Users/fwilhelm/.mambaforge/envs/lda4rec-ng/lib/python3.8/site-packages/pingouin/bayesian.py:146: RuntimeWarning: divide by zero encountered in double_scalars\n",
      "  bf10 = 1 / ((1 + t**2 / df)**(-(df + 1) / 2) / integr)\n",
      "/Users/fwilhelm/.mambaforge/envs/lda4rec-ng/lib/python3.8/site-packages/pingouin/bayesian.py:146: RuntimeWarning: divide by zero encountered in double_scalars\n",
      "  bf10 = 1 / ((1 + t**2 / df)**(-(df + 1) / 2) / integr)\n",
      "/Users/fwilhelm/.mambaforge/envs/lda4rec-ng/lib/python3.8/site-packages/pingouin/bayesian.py:146: RuntimeWarning: divide by zero encountered in double_scalars\n",
      "  bf10 = 1 / ((1 + t**2 / df)**(-(df + 1) / 2) / integr)\n",
      "/Users/fwilhelm/.mambaforge/envs/lda4rec-ng/lib/python3.8/site-packages/pingouin/bayesian.py:146: RuntimeWarning: divide by zero encountered in double_scalars\n",
      "  bf10 = 1 / ((1 + t**2 / df)**(-(df + 1) / 2) / integr)\n",
      "/Users/fwilhelm/.mambaforge/envs/lda4rec-ng/lib/python3.8/site-packages/pingouin/bayesian.py:146: RuntimeWarning: divide by zero encountered in double_scalars\n",
      "  bf10 = 1 / ((1 + t**2 / df)**(-(df + 1) / 2) / integr)\n",
      "/Users/fwilhelm/.mambaforge/envs/lda4rec-ng/lib/python3.8/site-packages/pingouin/bayesian.py:146: RuntimeWarning: divide by zero encountered in double_scalars\n",
      "  bf10 = 1 / ((1 + t**2 / df)**(-(df + 1) / 2) / integr)\n",
      "/Users/fwilhelm/.mambaforge/envs/lda4rec-ng/lib/python3.8/site-packages/pingouin/bayesian.py:146: RuntimeWarning: divide by zero encountered in double_scalars\n",
      "  bf10 = 1 / ((1 + t**2 / df)**(-(df + 1) / 2) / integr)\n"
     ]
    }
   ],
   "source": [
    "results = []\n",
    "\n",
    "for cfg in get_cfgs_from_path(Path('../configs')):\n",
    "    cfg_exp = cfg['experiment']\n",
    "    if not ((cfg_exp['dataset'] == 'movielens-1m' and cfg_exp['est_params']['embedding_dim'] == ML_DIM) \n",
    "            or (cfg_exp['dataset'] == 'goodbooks' and cfg_exp['est_params']['embedding_dim'] == GB_DIM)\n",
    "            or (cfg_exp['dataset'] == 'amazon' and cfg_exp['est_params']['embedding_dim'] == AM_DIM)\n",
    "           ):\n",
    "        continue\n",
    "        \n",
    "    train, test, data_rng = lda_eval.get_train_test_data(cfg)\n",
    "    est = lda_eval.load_model(Path('../models'), cfg, train)\n",
    "    \n",
    "    v, t, h, b = est.get_lda_params()\n",
    "    \n",
    "    cfg['result'] = {}\n",
    "    cfg_res = cfg['result']\n",
    "    \n",
    "    # first experiment\n",
    "    user_ids, log_probs = lda_eval.cohort_user_interaction_log_probs(train, v, h, rng=data_rng)\n",
    "    cfg_res['ttest_cohort_user_interaction_train'] = pg.ttest(log_probs[:, 1], log_probs[:, 0], paired=True, alternative='greater')\n",
    "    user_ids, log_probs = lda_eval.cohort_user_interaction_log_probs(test, v, h, rng=data_rng)\n",
    "    cfg_res['ttest_cohort_user_interaction_test'] = pg.ttest(log_probs[:, 1], log_probs[:, 0], paired=True, alternative='greater')\n",
    "\n",
    "    \n",
    "    # second experiment\n",
    "    cfg_res['corr_popularity'] = lda_eval.popularity_ranking_corr(train, b)\n",
    "    \n",
    "    # third experiment\n",
    "    emp_pops = lda_eval.get_empirical_pops(train)\n",
    "    cfg_res['corr_conformity_pop'] = lda_eval.conformity_interaction_pop_ranking_corr(emp_pops, (1/t).numpy(), train)\n",
    "    cfg_res['corr_conformity_b'] = lda_eval.conformity_interaction_pop_ranking_corr(b, (1/t).numpy(), train)\n",
    "    \n",
    "    # fourth experiment\n",
    "    user_ids, good_twins, bad_twins, rnd_twins = lda_eval.find_good_bad_rnd_twins(v, n_users=2000, rng=data_rng)\n",
    "    good_jacs = lda_eval.get_twin_jacs(user_ids, good_twins, train)\n",
    "    bad_jacs = lda_eval.get_twin_jacs(user_ids, bad_twins, train)\n",
    "    rnd_jacs = lda_eval.get_twin_jacs(user_ids, rnd_twins, train)\n",
    "    cfg_res['ttest_user_interaction_good_bad_train'] = pg.ttest(good_jacs, bad_jacs, paired=True, alternative='greater')\n",
    "    cfg_res['ttest_user_interaction_good_rnd_train'] = pg.ttest(good_jacs, rnd_jacs, paired=True, alternative='greater')\n",
    "    good_jacs = lda_eval.get_twin_jacs(user_ids, good_twins, test)\n",
    "    bad_jacs = lda_eval.get_twin_jacs(user_ids, bad_twins, test)\n",
    "    rnd_jacs = lda_eval.get_twin_jacs(user_ids, rnd_twins, test)\n",
    "    cfg_res['ttest_user_interaction_good_bad_test'] = pg.ttest(good_jacs, bad_jacs, paired=True, alternative='greater')\n",
    "    cfg_res['ttest_user_interaction_good_rnd_test'] = pg.ttest(good_jacs, rnd_jacs, paired=True, alternative='greater')\n",
    "    \n",
    "    results.append(cfg)"
   ]
  },
  {
   "cell_type": "code",
   "execution_count": 9,
   "metadata": {},
   "outputs": [],
   "source": [
    "with open('evaluation_results.pickle', 'bw') as fh:\n",
    "    pickle.dump(results, fh)"
   ]
  },
  {
   "cell_type": "code",
   "execution_count": 10,
   "metadata": {},
   "outputs": [],
   "source": [
    "with open('evaluation_results.pickle', 'br') as fh:\n",
    "    results = pickle.load(fh)"
   ]
  },
  {
   "cell_type": "markdown",
   "metadata": {},
   "source": [
    "### Evaluation of the Statistics"
   ]
  },
  {
   "cell_type": "markdown",
   "metadata": {},
   "source": [
    "#### Experiment 1"
   ]
  },
  {
   "cell_type": "code",
   "execution_count": 50,
   "metadata": {},
   "outputs": [],
   "source": [
    "exp1_df = pd.DataFrame([dict(dataset=res['experiment']['dataset'], \n",
    "                             train_p=res['result']['ttest_cohort_user_interaction_train']['p-val'].loc['T-test'],\n",
    "                             train_d=res['result']['ttest_cohort_user_interaction_train']['cohen-d'].loc['T-test'],\n",
    "                             test_p=res['result']['ttest_cohort_user_interaction_test']['p-val'].loc['T-test'],\n",
    "                             test_d=res['result']['ttest_cohort_user_interaction_test']['cohen-d'].loc['T-test'],\n",
    "                        for res in results])\n",
    "exp1_df = exp1_df.groupby('dataset').agg([np.mean, np.std])\n",
    "exp1_df.loc['goodbooks'] = exp1_df.loc['goodbooks'] / (2*calc_pairs(GB_DIM))\n",
    "exp1_df.loc['movielens-1m'] = exp1_df.loc['movielens-1m'] / (2*calc_pairs(ML_DIM))"
   ]
  },
  {
   "cell_type": "code",
   "execution_count": 51,
   "metadata": {},
   "outputs": [
    {
     "data": {
      "text/html": [
       "<div>\n",
       "<style scoped>\n",
       "    .dataframe tbody tr th:only-of-type {\n",
       "        vertical-align: middle;\n",
       "    }\n",
       "\n",
       "    .dataframe tbody tr th {\n",
       "        vertical-align: top;\n",
       "    }\n",
       "\n",
       "    .dataframe thead tr th {\n",
       "        text-align: left;\n",
       "    }\n",
       "\n",
       "    .dataframe thead tr:last-of-type th {\n",
       "        text-align: right;\n",
       "    }\n",
       "</style>\n",
       "<table border=\"1\" class=\"dataframe\">\n",
       "  <thead>\n",
       "    <tr>\n",
       "      <th></th>\n",
       "      <th colspan=\"2\" halign=\"left\">corr_cohorts_counts_100</th>\n",
       "      <th colspan=\"2\" halign=\"left\">corr_cohorts_counts_250</th>\n",
       "      <th colspan=\"2\" halign=\"left\">corr_cohorts_counts_1000</th>\n",
       "    </tr>\n",
       "    <tr>\n",
       "      <th></th>\n",
       "      <th>mean</th>\n",
       "      <th>std</th>\n",
       "      <th>mean</th>\n",
       "      <th>std</th>\n",
       "      <th>mean</th>\n",
       "      <th>std</th>\n",
       "    </tr>\n",
       "    <tr>\n",
       "      <th>dataset</th>\n",
       "      <th></th>\n",
       "      <th></th>\n",
       "      <th></th>\n",
       "      <th></th>\n",
       "      <th></th>\n",
       "      <th></th>\n",
       "    </tr>\n",
       "  </thead>\n",
       "  <tbody>\n",
       "    <tr>\n",
       "      <th>goodbooks</th>\n",
       "      <td>0.003396</td>\n",
       "      <td>0.000240</td>\n",
       "      <td>0.104035</td>\n",
       "      <td>0.003396</td>\n",
       "      <td>0.303593</td>\n",
       "      <td>0.003454</td>\n",
       "    </tr>\n",
       "    <tr>\n",
       "      <th>movielens-1m</th>\n",
       "      <td>0.023909</td>\n",
       "      <td>0.004051</td>\n",
       "      <td>0.184921</td>\n",
       "      <td>0.009848</td>\n",
       "      <td>0.791270</td>\n",
       "      <td>0.048758</td>\n",
       "    </tr>\n",
       "  </tbody>\n",
       "</table>\n",
       "</div>"
      ],
      "text/plain": [
       "             corr_cohorts_counts_100           corr_cohorts_counts_250  \\\n",
       "                                mean       std                    mean   \n",
       "dataset                                                                  \n",
       "goodbooks                   0.003396  0.000240                0.104035   \n",
       "movielens-1m                0.023909  0.004051                0.184921   \n",
       "\n",
       "                       corr_cohorts_counts_1000            \n",
       "                   std                     mean       std  \n",
       "dataset                                                    \n",
       "goodbooks     0.003396                 0.303593  0.003454  \n",
       "movielens-1m  0.009848                 0.791270  0.048758  "
      ]
     },
     "execution_count": 51,
     "metadata": {},
     "output_type": "execute_result"
    }
   ],
   "source": [
    "exp1_df"
   ]
  },
  {
   "cell_type": "code",
   "execution_count": 97,
   "metadata": {},
   "outputs": [
    {
     "data": {
      "text/plain": [
       "WeightedTauResult(correlation=-1.0, pvalue=nan)"
      ]
     },
     "execution_count": 97,
     "metadata": {},
     "output_type": "execute_result"
    }
   ],
   "source": [
    "sp.stats.weightedtau(np.arange(1000), np.arange(1000)[::-1], additive=False)"
   ]
  },
  {
   "cell_type": "code",
   "execution_count": 92,
   "metadata": {},
   "outputs": [
    {
     "data": {
      "text/plain": [
       "WeightedTauResult(correlation=0.10209813096996548, pvalue=nan)"
      ]
     },
     "execution_count": 92,
     "metadata": {},
     "output_type": "execute_result"
    }
   ],
   "source": [
    "sp.stats.weightedtau(h[:, 1], h[:, 30])"
   ]
  },
  {
   "cell_type": "markdown",
   "metadata": {},
   "source": [
    "#### Experiment 2"
   ]
  },
  {
   "cell_type": "code",
   "execution_count": 104,
   "metadata": {},
   "outputs": [],
   "source": [
    "exp2_df = pd.DataFrame([dict(dataset=res['experiment']['dataset'], \n",
    "                             corr_pop=res['result']['corr_popularity'][0],\n",
    "                             p_val=res['result']['corr_popularity'][1])\n",
    "                        for res in results])"
   ]
  },
  {
   "cell_type": "code",
   "execution_count": 105,
   "metadata": {},
   "outputs": [],
   "source": [
    "exp2_df = exp2_df.groupby('dataset').agg([np.mean, np.std])"
   ]
  },
  {
   "cell_type": "code",
   "execution_count": 107,
   "metadata": {},
   "outputs": [
    {
     "data": {
      "text/html": [
       "<div>\n",
       "<style scoped>\n",
       "    .dataframe tbody tr th:only-of-type {\n",
       "        vertical-align: middle;\n",
       "    }\n",
       "\n",
       "    .dataframe tbody tr th {\n",
       "        vertical-align: top;\n",
       "    }\n",
       "\n",
       "    .dataframe thead tr th {\n",
       "        text-align: left;\n",
       "    }\n",
       "\n",
       "    .dataframe thead tr:last-of-type th {\n",
       "        text-align: right;\n",
       "    }\n",
       "</style>\n",
       "<table border=\"1\" class=\"dataframe\">\n",
       "  <thead>\n",
       "    <tr>\n",
       "      <th></th>\n",
       "      <th colspan=\"2\" halign=\"left\">corr_pop</th>\n",
       "      <th colspan=\"2\" halign=\"left\">p_val</th>\n",
       "    </tr>\n",
       "    <tr>\n",
       "      <th></th>\n",
       "      <th>mean</th>\n",
       "      <th>std</th>\n",
       "      <th>mean</th>\n",
       "      <th>std</th>\n",
       "    </tr>\n",
       "    <tr>\n",
       "      <th>dataset</th>\n",
       "      <th></th>\n",
       "      <th></th>\n",
       "      <th></th>\n",
       "      <th></th>\n",
       "    </tr>\n",
       "  </thead>\n",
       "  <tbody>\n",
       "    <tr>\n",
       "      <th>goodbooks</th>\n",
       "      <td>0.224924</td>\n",
       "      <td>0.005144</td>\n",
       "      <td>3.809073e-238</td>\n",
       "      <td>0.0</td>\n",
       "    </tr>\n",
       "    <tr>\n",
       "      <th>movielens-1m</th>\n",
       "      <td>0.524872</td>\n",
       "      <td>0.012220</td>\n",
       "      <td>0.000000e+00</td>\n",
       "      <td>0.0</td>\n",
       "    </tr>\n",
       "  </tbody>\n",
       "</table>\n",
       "</div>"
      ],
      "text/plain": [
       "              corr_pop                    p_val     \n",
       "                  mean       std           mean  std\n",
       "dataset                                             \n",
       "goodbooks     0.224924  0.005144  3.809073e-238  0.0\n",
       "movielens-1m  0.524872  0.012220   0.000000e+00  0.0"
      ]
     },
     "execution_count": 107,
     "metadata": {},
     "output_type": "execute_result"
    }
   ],
   "source": [
    "exp2_df"
   ]
  },
  {
   "cell_type": "markdown",
   "metadata": {},
   "source": [
    "#### Experiment 3"
   ]
  },
  {
   "cell_type": "code",
   "execution_count": 136,
   "metadata": {},
   "outputs": [],
   "source": [
    "exp3_df = pd.DataFrame([dict(dataset=res['experiment']['dataset'], \n",
    "                             corr_conf_pop=res['result']['corr_conformity_pop'][0],\n",
    "                             p_val_conf_pop=res['result']['corr_conformity_pop'][1],\n",
    "                             corr_conf_b=res['result']['corr_conformity_b'][0],\n",
    "                             p_val_conf_b=res['result']['corr_conformity_b'][1],)\n",
    "                        for res in results])"
   ]
  },
  {
   "cell_type": "code",
   "execution_count": 137,
   "metadata": {},
   "outputs": [],
   "source": [
    "exp3_df = exp3_df.groupby('dataset').agg([np.mean, np.std])"
   ]
  },
  {
   "cell_type": "code",
   "execution_count": 138,
   "metadata": {},
   "outputs": [
    {
     "data": {
      "text/html": [
       "<div>\n",
       "<style scoped>\n",
       "    .dataframe tbody tr th:only-of-type {\n",
       "        vertical-align: middle;\n",
       "    }\n",
       "\n",
       "    .dataframe tbody tr th {\n",
       "        vertical-align: top;\n",
       "    }\n",
       "\n",
       "    .dataframe thead tr th {\n",
       "        text-align: left;\n",
       "    }\n",
       "\n",
       "    .dataframe thead tr:last-of-type th {\n",
       "        text-align: right;\n",
       "    }\n",
       "</style>\n",
       "<table border=\"1\" class=\"dataframe\">\n",
       "  <thead>\n",
       "    <tr>\n",
       "      <th></th>\n",
       "      <th colspan=\"2\" halign=\"left\">corr_conf_pop</th>\n",
       "      <th colspan=\"2\" halign=\"left\">p_val_conf_pop</th>\n",
       "      <th colspan=\"2\" halign=\"left\">corr_conf_b</th>\n",
       "      <th colspan=\"2\" halign=\"left\">p_val_conf_b</th>\n",
       "    </tr>\n",
       "    <tr>\n",
       "      <th></th>\n",
       "      <th>mean</th>\n",
       "      <th>std</th>\n",
       "      <th>mean</th>\n",
       "      <th>std</th>\n",
       "      <th>mean</th>\n",
       "      <th>std</th>\n",
       "      <th>mean</th>\n",
       "      <th>std</th>\n",
       "    </tr>\n",
       "    <tr>\n",
       "      <th>dataset</th>\n",
       "      <th></th>\n",
       "      <th></th>\n",
       "      <th></th>\n",
       "      <th></th>\n",
       "      <th></th>\n",
       "      <th></th>\n",
       "      <th></th>\n",
       "      <th></th>\n",
       "    </tr>\n",
       "  </thead>\n",
       "  <tbody>\n",
       "    <tr>\n",
       "      <th>goodbooks</th>\n",
       "      <td>-0.125499</td>\n",
       "      <td>0.007543</td>\n",
       "      <td>0.000000e+00</td>\n",
       "      <td>0.0</td>\n",
       "      <td>-0.102292</td>\n",
       "      <td>0.008147</td>\n",
       "      <td>4.064346e-209</td>\n",
       "      <td>0.0</td>\n",
       "    </tr>\n",
       "    <tr>\n",
       "      <th>movielens-1m</th>\n",
       "      <td>0.309979</td>\n",
       "      <td>0.009963</td>\n",
       "      <td>3.070797e-272</td>\n",
       "      <td>0.0</td>\n",
       "      <td>0.428386</td>\n",
       "      <td>0.008681</td>\n",
       "      <td>0.000000e+00</td>\n",
       "      <td>0.0</td>\n",
       "    </tr>\n",
       "  </tbody>\n",
       "</table>\n",
       "</div>"
      ],
      "text/plain": [
       "             corr_conf_pop           p_val_conf_pop      corr_conf_b  \\\n",
       "                      mean       std           mean  std        mean   \n",
       "dataset                                                                \n",
       "goodbooks        -0.125499  0.007543   0.000000e+00  0.0   -0.102292   \n",
       "movielens-1m      0.309979  0.009963  3.070797e-272  0.0    0.428386   \n",
       "\n",
       "                         p_val_conf_b       \n",
       "                   std           mean  std  \n",
       "dataset                                     \n",
       "goodbooks     0.008147  4.064346e-209  0.0  \n",
       "movielens-1m  0.008681   0.000000e+00  0.0  "
      ]
     },
     "execution_count": 138,
     "metadata": {},
     "output_type": "execute_result"
    }
   ],
   "source": [
    "exp3_df"
   ]
  },
  {
   "cell_type": "markdown",
   "metadata": {},
   "source": [
    "#### Experiment 4"
   ]
  },
  {
   "cell_type": "code",
   "execution_count": 147,
   "metadata": {},
   "outputs": [],
   "source": [
    "exp4_df = pd.DataFrame([dict(dataset=res['experiment']['dataset'], \n",
    "                             good_bad_train_p=res['result']['ttest_user_interaction_good_bad_train']['p-val'].loc['T-test'],\n",
    "                             good_bad_train_d=res['result']['ttest_user_interaction_good_bad_train']['cohen-d'].loc['T-test'],\n",
    "                             good_bad_test_p=res['result']['ttest_user_interaction_good_bad_test']['p-val'].loc['T-test'],\n",
    "                             good_bad_test_d=res['result']['ttest_user_interaction_good_bad_test']['cohen-d'].loc['T-test'],\n",
    "                             good_rnd_train_p=res['result']['ttest_user_interaction_good_rnd_train']['p-val'].loc['T-test'],\n",
    "                             good_rnd_train_d=res['result']['ttest_user_interaction_good_rnd_train']['cohen-d'].loc['T-test'],\n",
    "                             good_rnd_test_p=res['result']['ttest_user_interaction_good_rnd_test']['p-val'].loc['T-test'],\n",
    "                             good_rnd_test_d=res['result']['ttest_user_interaction_good_rnd_test']['cohen-d'].loc['T-test'])\n",
    "                        for res in results])"
   ]
  },
  {
   "cell_type": "code",
   "execution_count": 148,
   "metadata": {},
   "outputs": [],
   "source": [
    "exp4_df = exp4_df.groupby('dataset').agg([np.mean, np.std])"
   ]
  },
  {
   "cell_type": "code",
   "execution_count": 149,
   "metadata": {},
   "outputs": [
    {
     "data": {
      "text/html": [
       "<div>\n",
       "<style scoped>\n",
       "    .dataframe tbody tr th:only-of-type {\n",
       "        vertical-align: middle;\n",
       "    }\n",
       "\n",
       "    .dataframe tbody tr th {\n",
       "        vertical-align: top;\n",
       "    }\n",
       "\n",
       "    .dataframe thead tr th {\n",
       "        text-align: left;\n",
       "    }\n",
       "\n",
       "    .dataframe thead tr:last-of-type th {\n",
       "        text-align: right;\n",
       "    }\n",
       "</style>\n",
       "<table border=\"1\" class=\"dataframe\">\n",
       "  <thead>\n",
       "    <tr>\n",
       "      <th></th>\n",
       "      <th colspan=\"2\" halign=\"left\">good_bad_train_p</th>\n",
       "      <th colspan=\"2\" halign=\"left\">good_bad_train_d</th>\n",
       "      <th colspan=\"2\" halign=\"left\">good_bad_test_p</th>\n",
       "      <th colspan=\"2\" halign=\"left\">good_bad_test_d</th>\n",
       "      <th colspan=\"2\" halign=\"left\">good_rnd_train_p</th>\n",
       "      <th colspan=\"2\" halign=\"left\">good_rnd_train_d</th>\n",
       "      <th colspan=\"2\" halign=\"left\">good_rnd_test_p</th>\n",
       "      <th colspan=\"2\" halign=\"left\">good_rnd_test_d</th>\n",
       "    </tr>\n",
       "    <tr>\n",
       "      <th></th>\n",
       "      <th>mean</th>\n",
       "      <th>std</th>\n",
       "      <th>mean</th>\n",
       "      <th>std</th>\n",
       "      <th>mean</th>\n",
       "      <th>std</th>\n",
       "      <th>mean</th>\n",
       "      <th>std</th>\n",
       "      <th>mean</th>\n",
       "      <th>std</th>\n",
       "      <th>mean</th>\n",
       "      <th>std</th>\n",
       "      <th>mean</th>\n",
       "      <th>std</th>\n",
       "      <th>mean</th>\n",
       "      <th>std</th>\n",
       "    </tr>\n",
       "    <tr>\n",
       "      <th>dataset</th>\n",
       "      <th></th>\n",
       "      <th></th>\n",
       "      <th></th>\n",
       "      <th></th>\n",
       "      <th></th>\n",
       "      <th></th>\n",
       "      <th></th>\n",
       "      <th></th>\n",
       "      <th></th>\n",
       "      <th></th>\n",
       "      <th></th>\n",
       "      <th></th>\n",
       "      <th></th>\n",
       "      <th></th>\n",
       "      <th></th>\n",
       "      <th></th>\n",
       "    </tr>\n",
       "  </thead>\n",
       "  <tbody>\n",
       "    <tr>\n",
       "      <th>goodbooks</th>\n",
       "      <td>0.0</td>\n",
       "      <td>0.0</td>\n",
       "      <td>2.855045</td>\n",
       "      <td>0.053830</td>\n",
       "      <td>8.773512e-62</td>\n",
       "      <td>1.391755e-61</td>\n",
       "      <td>0.573157</td>\n",
       "      <td>0.033733</td>\n",
       "      <td>0.000000e+00</td>\n",
       "      <td>0.0</td>\n",
       "      <td>2.052336</td>\n",
       "      <td>0.039997</td>\n",
       "      <td>1.738667e-36</td>\n",
       "      <td>3.872404e-36</td>\n",
       "      <td>0.433807</td>\n",
       "      <td>0.028482</td>\n",
       "    </tr>\n",
       "    <tr>\n",
       "      <th>movielens-1m</th>\n",
       "      <td>0.0</td>\n",
       "      <td>0.0</td>\n",
       "      <td>2.112473</td>\n",
       "      <td>0.057101</td>\n",
       "      <td>5.639419e-68</td>\n",
       "      <td>1.261012e-67</td>\n",
       "      <td>0.613970</td>\n",
       "      <td>0.027271</td>\n",
       "      <td>1.000312e-302</td>\n",
       "      <td>0.0</td>\n",
       "      <td>1.379008</td>\n",
       "      <td>0.049892</td>\n",
       "      <td>3.304985e-38</td>\n",
       "      <td>6.773358e-38</td>\n",
       "      <td>0.424972</td>\n",
       "      <td>0.016892</td>\n",
       "    </tr>\n",
       "  </tbody>\n",
       "</table>\n",
       "</div>"
      ],
      "text/plain": [
       "             good_bad_train_p      good_bad_train_d           good_bad_test_p  \\\n",
       "                         mean  std             mean       std            mean   \n",
       "dataset                                                                         \n",
       "goodbooks                 0.0  0.0         2.855045  0.053830    8.773512e-62   \n",
       "movielens-1m              0.0  0.0         2.112473  0.057101    5.639419e-68   \n",
       "\n",
       "                           good_bad_test_d           good_rnd_train_p       \\\n",
       "                       std            mean       std             mean  std   \n",
       "dataset                                                                      \n",
       "goodbooks     1.391755e-61        0.573157  0.033733     0.000000e+00  0.0   \n",
       "movielens-1m  1.261012e-67        0.613970  0.027271    1.000312e-302  0.0   \n",
       "\n",
       "             good_rnd_train_d           good_rnd_test_p                \\\n",
       "                         mean       std            mean           std   \n",
       "dataset                                                                 \n",
       "goodbooks            2.052336  0.039997    1.738667e-36  3.872404e-36   \n",
       "movielens-1m         1.379008  0.049892    3.304985e-38  6.773358e-38   \n",
       "\n",
       "             good_rnd_test_d            \n",
       "                        mean       std  \n",
       "dataset                                 \n",
       "goodbooks           0.433807  0.028482  \n",
       "movielens-1m        0.424972  0.016892  "
      ]
     },
     "execution_count": 149,
     "metadata": {},
     "output_type": "execute_result"
    }
   ],
   "source": [
    "exp4_df"
   ]
  },
  {
   "cell_type": "code",
   "execution_count": 150,
   "metadata": {},
   "outputs": [
    {
     "data": {
      "text/plain": [
       "'\\\\begin{tabular}{lrrrrrrrrrrrrrrrr}\\n\\\\toprule\\n{} & \\\\multicolumn{2}{l}{good\\\\_bad\\\\_train\\\\_p} & \\\\multicolumn{2}{l}{good\\\\_bad\\\\_train\\\\_d} & \\\\multicolumn{2}{l}{good\\\\_bad\\\\_test\\\\_p} & \\\\multicolumn{2}{l}{good\\\\_bad\\\\_test\\\\_d} & \\\\multicolumn{2}{l}{good\\\\_rnd\\\\_train\\\\_p} & \\\\multicolumn{2}{l}{good\\\\_rnd\\\\_train\\\\_d} & \\\\multicolumn{2}{l}{good\\\\_rnd\\\\_test\\\\_p} & \\\\multicolumn{2}{l}{good\\\\_rnd\\\\_test\\\\_d} \\\\\\\\\\n{} &             mean &  std &             mean &       std &            mean &           std &            mean &       std &             mean &  std &             mean &       std &            mean &           std &            mean &       std \\\\\\\\\\ndataset      &                  &      &                  &           &                 &               &                 &           &                  &      &                  &           &                 &               &                 &           \\\\\\\\\\n\\\\midrule\\ngoodbooks    &              0.0 &  0.0 &         2.855045 &  0.053830 &    8.773512e-62 &  1.391755e-61 &        0.573157 &  0.033733 &     0.000000e+00 &  0.0 &         2.052336 &  0.039997 &    1.738667e-36 &  3.872404e-36 &        0.433807 &  0.028482 \\\\\\\\\\nmovielens-1m &              0.0 &  0.0 &         2.112473 &  0.057101 &    5.639419e-68 &  1.261012e-67 &        0.613970 &  0.027271 &    1.000312e-302 &  0.0 &         1.379008 &  0.049892 &    3.304985e-38 &  6.773358e-38 &        0.424972 &  0.016892 \\\\\\\\\\n\\\\bottomrule\\n\\\\end{tabular}\\n'"
      ]
     },
     "execution_count": 150,
     "metadata": {},
     "output_type": "execute_result"
    }
   ],
   "source": [
    "exp4_df.to_latex()"
   ]
  },
  {
   "cell_type": "code",
   "execution_count": 6,
   "metadata": {},
   "outputs": [],
   "source": [
    "ml = get_dataset(\"movielens-1m\")"
   ]
  },
  {
   "cell_type": "code",
   "execution_count": 14,
   "metadata": {},
   "outputs": [],
   "source": [
    "mzn = get_dataset(\"amazon\")"
   ]
  },
  {
   "cell_type": "code",
   "execution_count": 15,
   "metadata": {},
   "outputs": [
    {
     "data": {
      "text/plain": [
       "<Interactions dataset (38748 users x 27028 items x 1545278 interactions)>"
      ]
     },
     "execution_count": 15,
     "metadata": {},
     "output_type": "execute_result"
    }
   ],
   "source": [
    "mzn"
   ]
  },
  {
   "cell_type": "code",
   "execution_count": 8,
   "metadata": {},
   "outputs": [
    {
     "data": {
      "text/plain": [
       "<Interactions dataset (6040 users x 3706 items x 1000208 interactions)>"
      ]
     },
     "execution_count": 8,
     "metadata": {},
     "output_type": "execute_result"
    }
   ],
   "source": [
    "ml"
   ]
  },
  {
   "cell_type": "code",
   "execution_count": 9,
   "metadata": {},
   "outputs": [
    {
     "data": {
      "text/plain": [
       "<Interactions dataset (39071 users x 111645 items x 2141749 interactions)>"
      ]
     },
     "execution_count": 9,
     "metadata": {},
     "output_type": "execute_result"
    }
   ],
   "source": [
    "mzn"
   ]
  },
  {
   "cell_type": "code",
   "execution_count": 10,
   "metadata": {},
   "outputs": [],
   "source": [
    "gb = get_dataset(\"goodbooks\")"
   ]
  },
  {
   "cell_type": "code",
   "execution_count": 11,
   "metadata": {},
   "outputs": [
    {
     "data": {
      "text/plain": [
       "<Interactions dataset (53424 users x 10000 items x 5976479 interactions)>"
      ]
     },
     "execution_count": 11,
     "metadata": {},
     "output_type": "execute_result"
    }
   ],
   "source": [
    "gb"
   ]
  },
  {
   "cell_type": "code",
   "execution_count": null,
   "metadata": {},
   "outputs": [],
   "source": []
  }
 ],
 "metadata": {
  "kernelspec": {
   "display_name": "Python 3 (ipykernel)",
   "language": "python",
   "name": "python3"
  },
  "language_info": {
   "codemirror_mode": {
    "name": "ipython",
    "version": 3
   },
   "file_extension": ".py",
   "mimetype": "text/x-python",
   "name": "python",
   "nbconvert_exporter": "python",
   "pygments_lexer": "ipython3",
   "version": "3.8.10"
  },
  "pycharm": {
   "stem_cell": {
    "cell_type": "raw",
    "metadata": {
     "collapsed": false
    },
    "source": []
   }
  }
 },
 "nbformat": 4,
 "nbformat_minor": 4
}
